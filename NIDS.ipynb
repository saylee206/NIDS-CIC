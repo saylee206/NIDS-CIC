{
  "nbformat": 4,
  "nbformat_minor": 0,
  "metadata": {
    "colab": {
      "provenance": [],
      "gpuType": "T4",
      "include_colab_link": true
    },
    "kernelspec": {
      "name": "python3",
      "display_name": "Python 3"
    },
    "language_info": {
      "name": "python"
    },
    "accelerator": "GPU"
  },
  "cells": [
    {
      "cell_type": "markdown",
      "metadata": {
        "id": "view-in-github",
        "colab_type": "text"
      },
      "source": [
        "<a href=\"https://colab.research.google.com/github/mohammadomarshaikh/NIDS-CIC-IDS2017-LSTM/blob/main/NIDS.ipynb\" target=\"_parent\"><img src=\"https://colab.research.google.com/assets/colab-badge.svg\" alt=\"Open In Colab\"/></a>"
      ]
    },
    {
      "cell_type": "markdown",
      "source": [
        "DOWNLOADING/IMPORTING LIBRARIES REQUIRED\n",
        "```\n",
        "\n"
      ],
      "metadata": {
        "id": "qHUiQ25_r3tq"
      }
    },
    {
      "cell_type": "code",
      "execution_count": null,
      "metadata": {
        "id": "mZwj3wZyDFY2",
        "colab": {
          "base_uri": "https://localhost:8080/",
          "height": 251
        },
        "outputId": "ef9aa04e-4737-4502-d91c-57aa6ecefe1c"
      },
      "outputs": [
        {
          "output_type": "error",
          "ename": "ModuleNotFoundError",
          "evalue": "No module named 'imblearn'",
          "traceback": [
            "\u001b[0;31m---------------------------------------------------------------------------\u001b[0m",
            "\u001b[0;31mModuleNotFoundError\u001b[0m                       Traceback (most recent call last)",
            "Cell \u001b[0;32mIn[18], line 5\u001b[0m\n\u001b[1;32m      1\u001b[0m \u001b[38;5;66;03m# Importing the libraries\u001b[39;00m\n\u001b[1;32m      2\u001b[0m \n\u001b[1;32m      3\u001b[0m \u001b[38;5;66;03m# Libraries used for the preprocessing of the data\u001b[39;00m\n\u001b[1;32m      4\u001b[0m \u001b[38;5;28;01mfrom\u001b[39;00m \u001b[38;5;21;01msklearn\u001b[39;00m\u001b[38;5;21;01m.\u001b[39;00m\u001b[38;5;21;01mpreprocessing\u001b[39;00m \u001b[38;5;28;01mimport\u001b[39;00m PowerTransformer, StandardScaler, LabelEncoder, Normalizer\n\u001b[0;32m----> 5\u001b[0m \u001b[38;5;28;01mfrom\u001b[39;00m \u001b[38;5;21;01mimblearn\u001b[39;00m\u001b[38;5;21;01m.\u001b[39;00m\u001b[38;5;21;01mover_sampling\u001b[39;00m \u001b[38;5;28;01mimport\u001b[39;00m SMOTE\n\u001b[1;32m      6\u001b[0m \u001b[38;5;28;01mfrom\u001b[39;00m \u001b[38;5;21;01mimblearn\u001b[39;00m\u001b[38;5;21;01m.\u001b[39;00m\u001b[38;5;21;01munder_sampling\u001b[39;00m \u001b[38;5;28;01mimport\u001b[39;00m RandomUnderSampler\n\u001b[1;32m      7\u001b[0m \u001b[38;5;28;01mfrom\u001b[39;00m \u001b[38;5;21;01msklearn\u001b[39;00m\u001b[38;5;21;01m.\u001b[39;00m\u001b[38;5;21;01mfeature_selection\u001b[39;00m \u001b[38;5;28;01mimport\u001b[39;00m SelectKBest, f_classif\n",
            "\u001b[0;31mModuleNotFoundError\u001b[0m: No module named 'imblearn'"
          ]
        }
      ],
      "source": [
        "# Importing the libraries\n",
        "\n",
        "# Libraries used for the preprocessing of the data\n",
        "from sklearn.preprocessing import PowerTransformer, StandardScaler, LabelEncoder, Normalizer\n",
        "from imblearn.over_sampling import SMOTE\n",
        "from imblearn.under_sampling import RandomUnderSampler\n",
        "from sklearn.feature_selection import SelectKBest, f_classif\n",
        "from sklearn.model_selection import train_test_split\n",
        "\n",
        "# Making the graphs\n",
        "import matplotlib.pyplot as plt\n",
        "\n",
        "# Data format libraries\n",
        "import numpy as np\n",
        "import pandas as pd\n",
        "\n",
        "# Used for evaluation of the features extracted by ANOVA\n",
        "# This is done to select the optimum number of features\n",
        "from sklearn.tree import DecisionTreeClassifier\n",
        "from sklearn.metrics import accuracy_score\n",
        "\n",
        "# Neural Networks libraries\n",
        "from keras.models import Sequential\n",
        "from keras.layers import Dense, Dropout\n",
        "from keras.losses import sparse_categorical_crossentropy\n",
        "import tensorflow as tf\n",
        "\n",
        "# Used to save Normalizer and PowerTransformer\n",
        "import joblib\n",
        "\n",
        "# Metrics used for the evaluation of the models\n",
        "# The accuracy score is also used but it can be seen further up where\n",
        "# the libraries for ANOVA, it is used for feature extraction\n",
        "from sklearn.metrics import recall_score\n",
        "from sklearn.metrics import multilabel_confusion_matrix\n",
        "from sklearn.metrics import f1_score\n",
        "from sklearn.metrics import precision_score\n",
        "\n",
        "# Libraries used for the construction of the confusion matrix figures\n",
        "# Pandas and Matplotlib are also used but they are imported further up\n",
        "import seaborn as sns"
      ]
    },
    {
      "cell_type": "code",
      "source": [
        "!pip install fast_ml\n",
        "# Methods used cleansing constant and quasi-constant features\n",
        "from fast_ml.utilities import display_all, reduce_memory_usage\n",
        "from fast_ml.feature_selection import get_constant_features"
      ],
      "metadata": {
        "colab": {
          "base_uri": "https://localhost:8080/"
        },
        "id": "mOJnWtX8Dbqu",
        "outputId": "52a1cf72-9d5f-4688-e9fc-12d565b023a9"
      },
      "execution_count": null,
      "outputs": [
        {
          "output_type": "stream",
          "name": "stdout",
          "text": [
            "Requirement already satisfied: fast_ml in c:\\users\\test2\\anaconda3\\envs\\ids\\lib\\site-packages (3.68)\n"
          ]
        }
      ]
    },
    {
      "cell_type": "markdown",
      "source": [
        "COMBINING VARIOUS FILES FROM DOWNLOADED DATASET AND CLEANING (HANDLING NAN, INFI VALUES/ STRIPPING LEADING SPACES)\n"
      ],
      "metadata": {
        "id": "9RWPDd9osK-b"
      }
    },
    {
      "cell_type": "code",
      "source": [
        "list_files = []\n",
        "\n",
        "# Function to read a CSV with multiple encodings\n",
        "def read_csv_with_encodings(file_path, encodings=['utf-8', 'latin1', 'ISO-8859-1']):\n",
        "    for encoding in encodings:\n",
        "        try:\n",
        "            df = pd.read_csv(file_path, index_col=None, encoding=encoding)\n",
        "            return df\n",
        "        except (UnicodeDecodeError, pd.errors.ParserError):\n",
        "            continue\n",
        "    raise ValueError(f\"Failed to read file {file_path} with given encodings.\")\n",
        "\n",
        "# List of file paths\n",
        "file_paths = [\n",
        "    r\"Desktop/nid/Friday-WorkingHours-Afternoon-DDos.pcap_ISCX.csv\",\n",
        "    r\"Desktop/nid/Friday-WorkingHours-Afternoon-PortScan.pcap_ISCX.csv\",\n",
        "    r\"Desktop/nid/Friday-WorkingHours-Morning.pcap_ISCX.csv\",\n",
        "    r\"Desktop/nid/Monday-WorkingHours.pcap_ISCX.csv\",\n",
        "    r\"Desktop/nid/Thursday-WorkingHours-Afternoon-Infilteration.pcap_ISCX.csv\",\n",
        "    r\"Desktop/nid/Thursday-WorkingHours-Morning-WebAttacks.pcap_ISCX.csv\",\n",
        "    r\"Desktop/nid/Tuesday-WorkingHours.pcap_ISCX.csv\",\n",
        "    r\"Desktop/nid/Wednesday-workingHours.pcap_ISCX.csv\"\n",
        "]\n",
        "\n",
        "# Reading and cleaning data\n",
        "for file_path in file_paths:\n",
        "    df = read_csv_with_encodings(file_path)\n",
        "    df.replace([np.inf, -np.inf, \"Infinity\", \"NaN\"], np.nan, inplace=True)\n",
        "    df.dropna(axis=\"rows\", how=\"any\", inplace=True)\n",
        "    list_files.append(df)\n",
        "\n",
        "# Concatenate all dataframes\n",
        "frame = pd.concat(list_files, axis=0, ignore_index=True)"
      ],
      "metadata": {
        "colab": {
          "base_uri": "https://localhost:8080/"
        },
        "id": "ODiMTSc-Dk_z",
        "outputId": "928ffb5c-8a25-4bc1-f397-0776a4ba8dec"
      },
      "execution_count": null,
      "outputs": [
        {
          "output_type": "stream",
          "name": "stderr",
          "text": [
            "C:\\Users\\test2\\AppData\\Local\\Temp\\ipykernel_6344\\1475877635.py:7: DtypeWarning: Columns (0,1,3,6,84) have mixed types. Specify dtype option on import or set low_memory=False.\n",
            "  df = pd.read_csv(file_path, index_col=None, encoding=encoding)\n"
          ]
        }
      ]
    },
    {
      "cell_type": "code",
      "source": [
        "# Stripping leading and trailing whitespace from all columns\n",
        "frame.columns = frame.columns.str.strip()\n",
        "\n",
        "# Additionally, if you want to strip whitespace from the actual data in each column (if they are strings)\n",
        "for col in frame.select_dtypes(include=['object']).columns:\n",
        "    frame[col] = frame[col].str.strip()\n"
      ],
      "metadata": {
        "id": "jCDHMfWD8ZuA"
      },
      "execution_count": null,
      "outputs": []
    },
    {
      "cell_type": "markdown",
      "source": [
        "CHECKING DIFFERENT FEATURES IN DATASET\n"
      ],
      "metadata": {
        "id": "COhVUIcOswKV"
      }
    },
    {
      "cell_type": "code",
      "source": [
        "# Display all columns in the DataFrame\n",
        "pd.set_option('display.max_columns', None)  # Set option to show all columns\n",
        "print(frame.columns.tolist())  # Print the list of all column names\n"
      ],
      "metadata": {
        "colab": {
          "base_uri": "https://localhost:8080/"
        },
        "id": "tsRV9Ef-8lON",
        "outputId": "4088edff-4efd-4bac-93f1-6038cbff03a7"
      },
      "execution_count": null,
      "outputs": [
        {
          "output_type": "stream",
          "name": "stdout",
          "text": [
            "['Flow ID', 'Source IP', 'Source Port', 'Destination IP', 'Destination Port', 'Protocol', 'Timestamp', 'Flow Duration', 'Total Fwd Packets', 'Total Backward Packets', 'Total Length of Fwd Packets', 'Total Length of Bwd Packets', 'Fwd Packet Length Max', 'Fwd Packet Length Min', 'Fwd Packet Length Mean', 'Fwd Packet Length Std', 'Bwd Packet Length Max', 'Bwd Packet Length Min', 'Bwd Packet Length Mean', 'Bwd Packet Length Std', 'Flow Bytes/s', 'Flow Packets/s', 'Flow IAT Mean', 'Flow IAT Std', 'Flow IAT Max', 'Flow IAT Min', 'Fwd IAT Total', 'Fwd IAT Mean', 'Fwd IAT Std', 'Fwd IAT Max', 'Fwd IAT Min', 'Bwd IAT Total', 'Bwd IAT Mean', 'Bwd IAT Std', 'Bwd IAT Max', 'Bwd IAT Min', 'Fwd PSH Flags', 'Bwd PSH Flags', 'Fwd URG Flags', 'Bwd URG Flags', 'Fwd Header Length', 'Bwd Header Length', 'Fwd Packets/s', 'Bwd Packets/s', 'Min Packet Length', 'Max Packet Length', 'Packet Length Mean', 'Packet Length Std', 'Packet Length Variance', 'FIN Flag Count', 'SYN Flag Count', 'RST Flag Count', 'PSH Flag Count', 'ACK Flag Count', 'URG Flag Count', 'CWE Flag Count', 'ECE Flag Count', 'Down/Up Ratio', 'Average Packet Size', 'Avg Fwd Segment Size', 'Avg Bwd Segment Size', 'Fwd Header Length.1', 'Fwd Avg Bytes/Bulk', 'Fwd Avg Packets/Bulk', 'Fwd Avg Bulk Rate', 'Bwd Avg Bytes/Bulk', 'Bwd Avg Packets/Bulk', 'Bwd Avg Bulk Rate', 'Subflow Fwd Packets', 'Subflow Fwd Bytes', 'Subflow Bwd Packets', 'Subflow Bwd Bytes', 'Init_Win_bytes_forward', 'Init_Win_bytes_backward', 'act_data_pkt_fwd', 'min_seg_size_forward', 'Active Mean', 'Active Std', 'Active Max', 'Active Min', 'Idle Mean', 'Idle Std', 'Idle Max', 'Idle Min', 'Label']\n"
          ]
        }
      ]
    },
    {
      "cell_type": "code",
      "source": [],
      "metadata": {
        "id": "r9chL4KblQhL"
      },
      "execution_count": null,
      "outputs": []
    },
    {
      "cell_type": "code",
      "source": [
        "frame.head(3)"
      ],
      "metadata": {
        "colab": {
          "base_uri": "https://localhost:8080/",
          "height": 319
        },
        "id": "9WXWyTio8x6l",
        "outputId": "d58a2e58-e908-4bdd-de94-885ead4f68a8"
      },
      "execution_count": null,
      "outputs": [
        {
          "output_type": "execute_result",
          "data": {
            "text/plain": [
              "                                   Flow ID       Source IP  Source Port  \\\n",
              "0  192.168.10.5-104.16.207.165-54865-443-6  104.16.207.165        443.0   \n",
              "1    192.168.10.5-104.16.28.216-55054-80-6   104.16.28.216         80.0   \n",
              "2    192.168.10.5-104.16.28.216-55055-80-6   104.16.28.216         80.0   \n",
              "\n",
              "  Destination IP  Destination Port  Protocol      Timestamp  Flow Duration  \\\n",
              "0   192.168.10.5           54865.0       6.0  7/7/2017 3:30            3.0   \n",
              "1   192.168.10.5           55054.0       6.0  7/7/2017 3:30          109.0   \n",
              "2   192.168.10.5           55055.0       6.0  7/7/2017 3:30           52.0   \n",
              "\n",
              "   Total Fwd Packets  Total Backward Packets  Total Length of Fwd Packets  \\\n",
              "0                2.0                     0.0                         12.0   \n",
              "1                1.0                     1.0                          6.0   \n",
              "2                1.0                     1.0                          6.0   \n",
              "\n",
              "   Total Length of Bwd Packets  Fwd Packet Length Max  Fwd Packet Length Min  \\\n",
              "0                          0.0                    6.0                    6.0   \n",
              "1                          6.0                    6.0                    6.0   \n",
              "2                          6.0                    6.0                    6.0   \n",
              "\n",
              "   Fwd Packet Length Mean  Fwd Packet Length Std  Bwd Packet Length Max  \\\n",
              "0                     6.0                    0.0                    0.0   \n",
              "1                     6.0                    0.0                    6.0   \n",
              "2                     6.0                    0.0                    6.0   \n",
              "\n",
              "   Bwd Packet Length Min  Bwd Packet Length Mean  Bwd Packet Length Std  \\\n",
              "0                    0.0                     0.0                    0.0   \n",
              "1                    6.0                     6.0                    0.0   \n",
              "2                    6.0                     6.0                    0.0   \n",
              "\n",
              "   Flow Bytes/s  Flow Packets/s  Flow IAT Mean  Flow IAT Std  Flow IAT Max  \\\n",
              "0  4.000000e+06    666666.66670            3.0           0.0           3.0   \n",
              "1  1.100917e+05     18348.62385          109.0           0.0         109.0   \n",
              "2  2.307692e+05     38461.53846           52.0           0.0          52.0   \n",
              "\n",
              "   Flow IAT Min  Fwd IAT Total  Fwd IAT Mean  Fwd IAT Std  Fwd IAT Max  \\\n",
              "0           3.0            3.0           3.0          0.0          3.0   \n",
              "1         109.0            0.0           0.0          0.0          0.0   \n",
              "2          52.0            0.0           0.0          0.0          0.0   \n",
              "\n",
              "   Fwd IAT Min  Bwd IAT Total  Bwd IAT Mean  Bwd IAT Std  Bwd IAT Max  \\\n",
              "0          3.0            0.0           0.0          0.0          0.0   \n",
              "1          0.0            0.0           0.0          0.0          0.0   \n",
              "2          0.0            0.0           0.0          0.0          0.0   \n",
              "\n",
              "   Bwd IAT Min  Fwd PSH Flags  Bwd PSH Flags  Fwd URG Flags  Bwd URG Flags  \\\n",
              "0          0.0            0.0            0.0            0.0            0.0   \n",
              "1          0.0            0.0            0.0            0.0            0.0   \n",
              "2          0.0            0.0            0.0            0.0            0.0   \n",
              "\n",
              "   Fwd Header Length  Bwd Header Length  Fwd Packets/s  Bwd Packets/s  \\\n",
              "0               40.0                0.0  666666.666700       0.000000   \n",
              "1               20.0               20.0    9174.311927    9174.311927   \n",
              "2               20.0               20.0   19230.769230   19230.769230   \n",
              "\n",
              "   Min Packet Length  Max Packet Length  Packet Length Mean  \\\n",
              "0                6.0                6.0                 6.0   \n",
              "1                6.0                6.0                 6.0   \n",
              "2                6.0                6.0                 6.0   \n",
              "\n",
              "   Packet Length Std  Packet Length Variance  FIN Flag Count  SYN Flag Count  \\\n",
              "0                0.0                     0.0             0.0             0.0   \n",
              "1                0.0                     0.0             0.0             0.0   \n",
              "2                0.0                     0.0             0.0             0.0   \n",
              "\n",
              "   RST Flag Count  PSH Flag Count  ACK Flag Count  URG Flag Count  \\\n",
              "0             0.0             0.0             1.0             0.0   \n",
              "1             0.0             0.0             1.0             1.0   \n",
              "2             0.0             0.0             1.0             1.0   \n",
              "\n",
              "   CWE Flag Count  ECE Flag Count  Down/Up Ratio  Average Packet Size  \\\n",
              "0             0.0             0.0            0.0                  9.0   \n",
              "1             0.0             0.0            1.0                  9.0   \n",
              "2             0.0             0.0            1.0                  9.0   \n",
              "\n",
              "   Avg Fwd Segment Size  Avg Bwd Segment Size  Fwd Header Length.1  \\\n",
              "0                   6.0                   0.0                 40.0   \n",
              "1                   6.0                   6.0                 20.0   \n",
              "2                   6.0                   6.0                 20.0   \n",
              "\n",
              "   Fwd Avg Bytes/Bulk  Fwd Avg Packets/Bulk  Fwd Avg Bulk Rate  \\\n",
              "0                 0.0                   0.0                0.0   \n",
              "1                 0.0                   0.0                0.0   \n",
              "2                 0.0                   0.0                0.0   \n",
              "\n",
              "   Bwd Avg Bytes/Bulk  Bwd Avg Packets/Bulk  Bwd Avg Bulk Rate  \\\n",
              "0                 0.0                   0.0                0.0   \n",
              "1                 0.0                   0.0                0.0   \n",
              "2                 0.0                   0.0                0.0   \n",
              "\n",
              "   Subflow Fwd Packets  Subflow Fwd Bytes  Subflow Bwd Packets  \\\n",
              "0                  2.0               12.0                  0.0   \n",
              "1                  1.0                6.0                  1.0   \n",
              "2                  1.0                6.0                  1.0   \n",
              "\n",
              "   Subflow Bwd Bytes  Init_Win_bytes_forward  Init_Win_bytes_backward  \\\n",
              "0                0.0                    33.0                     -1.0   \n",
              "1                6.0                    29.0                    256.0   \n",
              "2                6.0                    29.0                    256.0   \n",
              "\n",
              "   act_data_pkt_fwd  min_seg_size_forward  Active Mean  Active Std  \\\n",
              "0               1.0                  20.0          0.0         0.0   \n",
              "1               0.0                  20.0          0.0         0.0   \n",
              "2               0.0                  20.0          0.0         0.0   \n",
              "\n",
              "   Active Max  Active Min  Idle Mean  Idle Std  Idle Max  Idle Min   Label  \n",
              "0         0.0         0.0        0.0       0.0       0.0       0.0  BENIGN  \n",
              "1         0.0         0.0        0.0       0.0       0.0       0.0  BENIGN  \n",
              "2         0.0         0.0        0.0       0.0       0.0       0.0  BENIGN  "
            ],
            "text/html": [
              "<div>\n",
              "<style scoped>\n",
              "    .dataframe tbody tr th:only-of-type {\n",
              "        vertical-align: middle;\n",
              "    }\n",
              "\n",
              "    .dataframe tbody tr th {\n",
              "        vertical-align: top;\n",
              "    }\n",
              "\n",
              "    .dataframe thead th {\n",
              "        text-align: right;\n",
              "    }\n",
              "</style>\n",
              "<table border=\"1\" class=\"dataframe\">\n",
              "  <thead>\n",
              "    <tr style=\"text-align: right;\">\n",
              "      <th></th>\n",
              "      <th>Flow ID</th>\n",
              "      <th>Source IP</th>\n",
              "      <th>Source Port</th>\n",
              "      <th>Destination IP</th>\n",
              "      <th>Destination Port</th>\n",
              "      <th>Protocol</th>\n",
              "      <th>Timestamp</th>\n",
              "      <th>Flow Duration</th>\n",
              "      <th>Total Fwd Packets</th>\n",
              "      <th>Total Backward Packets</th>\n",
              "      <th>Total Length of Fwd Packets</th>\n",
              "      <th>Total Length of Bwd Packets</th>\n",
              "      <th>Fwd Packet Length Max</th>\n",
              "      <th>Fwd Packet Length Min</th>\n",
              "      <th>Fwd Packet Length Mean</th>\n",
              "      <th>Fwd Packet Length Std</th>\n",
              "      <th>Bwd Packet Length Max</th>\n",
              "      <th>Bwd Packet Length Min</th>\n",
              "      <th>Bwd Packet Length Mean</th>\n",
              "      <th>Bwd Packet Length Std</th>\n",
              "      <th>Flow Bytes/s</th>\n",
              "      <th>Flow Packets/s</th>\n",
              "      <th>Flow IAT Mean</th>\n",
              "      <th>Flow IAT Std</th>\n",
              "      <th>Flow IAT Max</th>\n",
              "      <th>Flow IAT Min</th>\n",
              "      <th>Fwd IAT Total</th>\n",
              "      <th>Fwd IAT Mean</th>\n",
              "      <th>Fwd IAT Std</th>\n",
              "      <th>Fwd IAT Max</th>\n",
              "      <th>Fwd IAT Min</th>\n",
              "      <th>Bwd IAT Total</th>\n",
              "      <th>Bwd IAT Mean</th>\n",
              "      <th>Bwd IAT Std</th>\n",
              "      <th>Bwd IAT Max</th>\n",
              "      <th>Bwd IAT Min</th>\n",
              "      <th>Fwd PSH Flags</th>\n",
              "      <th>Bwd PSH Flags</th>\n",
              "      <th>Fwd URG Flags</th>\n",
              "      <th>Bwd URG Flags</th>\n",
              "      <th>Fwd Header Length</th>\n",
              "      <th>Bwd Header Length</th>\n",
              "      <th>Fwd Packets/s</th>\n",
              "      <th>Bwd Packets/s</th>\n",
              "      <th>Min Packet Length</th>\n",
              "      <th>Max Packet Length</th>\n",
              "      <th>Packet Length Mean</th>\n",
              "      <th>Packet Length Std</th>\n",
              "      <th>Packet Length Variance</th>\n",
              "      <th>FIN Flag Count</th>\n",
              "      <th>SYN Flag Count</th>\n",
              "      <th>RST Flag Count</th>\n",
              "      <th>PSH Flag Count</th>\n",
              "      <th>ACK Flag Count</th>\n",
              "      <th>URG Flag Count</th>\n",
              "      <th>CWE Flag Count</th>\n",
              "      <th>ECE Flag Count</th>\n",
              "      <th>Down/Up Ratio</th>\n",
              "      <th>Average Packet Size</th>\n",
              "      <th>Avg Fwd Segment Size</th>\n",
              "      <th>Avg Bwd Segment Size</th>\n",
              "      <th>Fwd Header Length.1</th>\n",
              "      <th>Fwd Avg Bytes/Bulk</th>\n",
              "      <th>Fwd Avg Packets/Bulk</th>\n",
              "      <th>Fwd Avg Bulk Rate</th>\n",
              "      <th>Bwd Avg Bytes/Bulk</th>\n",
              "      <th>Bwd Avg Packets/Bulk</th>\n",
              "      <th>Bwd Avg Bulk Rate</th>\n",
              "      <th>Subflow Fwd Packets</th>\n",
              "      <th>Subflow Fwd Bytes</th>\n",
              "      <th>Subflow Bwd Packets</th>\n",
              "      <th>Subflow Bwd Bytes</th>\n",
              "      <th>Init_Win_bytes_forward</th>\n",
              "      <th>Init_Win_bytes_backward</th>\n",
              "      <th>act_data_pkt_fwd</th>\n",
              "      <th>min_seg_size_forward</th>\n",
              "      <th>Active Mean</th>\n",
              "      <th>Active Std</th>\n",
              "      <th>Active Max</th>\n",
              "      <th>Active Min</th>\n",
              "      <th>Idle Mean</th>\n",
              "      <th>Idle Std</th>\n",
              "      <th>Idle Max</th>\n",
              "      <th>Idle Min</th>\n",
              "      <th>Label</th>\n",
              "    </tr>\n",
              "  </thead>\n",
              "  <tbody>\n",
              "    <tr>\n",
              "      <th>0</th>\n",
              "      <td>192.168.10.5-104.16.207.165-54865-443-6</td>\n",
              "      <td>104.16.207.165</td>\n",
              "      <td>443.0</td>\n",
              "      <td>192.168.10.5</td>\n",
              "      <td>54865.0</td>\n",
              "      <td>6.0</td>\n",
              "      <td>7/7/2017 3:30</td>\n",
              "      <td>3.0</td>\n",
              "      <td>2.0</td>\n",
              "      <td>0.0</td>\n",
              "      <td>12.0</td>\n",
              "      <td>0.0</td>\n",
              "      <td>6.0</td>\n",
              "      <td>6.0</td>\n",
              "      <td>6.0</td>\n",
              "      <td>0.0</td>\n",
              "      <td>0.0</td>\n",
              "      <td>0.0</td>\n",
              "      <td>0.0</td>\n",
              "      <td>0.0</td>\n",
              "      <td>4.000000e+06</td>\n",
              "      <td>666666.66670</td>\n",
              "      <td>3.0</td>\n",
              "      <td>0.0</td>\n",
              "      <td>3.0</td>\n",
              "      <td>3.0</td>\n",
              "      <td>3.0</td>\n",
              "      <td>3.0</td>\n",
              "      <td>0.0</td>\n",
              "      <td>3.0</td>\n",
              "      <td>3.0</td>\n",
              "      <td>0.0</td>\n",
              "      <td>0.0</td>\n",
              "      <td>0.0</td>\n",
              "      <td>0.0</td>\n",
              "      <td>0.0</td>\n",
              "      <td>0.0</td>\n",
              "      <td>0.0</td>\n",
              "      <td>0.0</td>\n",
              "      <td>0.0</td>\n",
              "      <td>40.0</td>\n",
              "      <td>0.0</td>\n",
              "      <td>666666.666700</td>\n",
              "      <td>0.000000</td>\n",
              "      <td>6.0</td>\n",
              "      <td>6.0</td>\n",
              "      <td>6.0</td>\n",
              "      <td>0.0</td>\n",
              "      <td>0.0</td>\n",
              "      <td>0.0</td>\n",
              "      <td>0.0</td>\n",
              "      <td>0.0</td>\n",
              "      <td>0.0</td>\n",
              "      <td>1.0</td>\n",
              "      <td>0.0</td>\n",
              "      <td>0.0</td>\n",
              "      <td>0.0</td>\n",
              "      <td>0.0</td>\n",
              "      <td>9.0</td>\n",
              "      <td>6.0</td>\n",
              "      <td>0.0</td>\n",
              "      <td>40.0</td>\n",
              "      <td>0.0</td>\n",
              "      <td>0.0</td>\n",
              "      <td>0.0</td>\n",
              "      <td>0.0</td>\n",
              "      <td>0.0</td>\n",
              "      <td>0.0</td>\n",
              "      <td>2.0</td>\n",
              "      <td>12.0</td>\n",
              "      <td>0.0</td>\n",
              "      <td>0.0</td>\n",
              "      <td>33.0</td>\n",
              "      <td>-1.0</td>\n",
              "      <td>1.0</td>\n",
              "      <td>20.0</td>\n",
              "      <td>0.0</td>\n",
              "      <td>0.0</td>\n",
              "      <td>0.0</td>\n",
              "      <td>0.0</td>\n",
              "      <td>0.0</td>\n",
              "      <td>0.0</td>\n",
              "      <td>0.0</td>\n",
              "      <td>0.0</td>\n",
              "      <td>BENIGN</td>\n",
              "    </tr>\n",
              "    <tr>\n",
              "      <th>1</th>\n",
              "      <td>192.168.10.5-104.16.28.216-55054-80-6</td>\n",
              "      <td>104.16.28.216</td>\n",
              "      <td>80.0</td>\n",
              "      <td>192.168.10.5</td>\n",
              "      <td>55054.0</td>\n",
              "      <td>6.0</td>\n",
              "      <td>7/7/2017 3:30</td>\n",
              "      <td>109.0</td>\n",
              "      <td>1.0</td>\n",
              "      <td>1.0</td>\n",
              "      <td>6.0</td>\n",
              "      <td>6.0</td>\n",
              "      <td>6.0</td>\n",
              "      <td>6.0</td>\n",
              "      <td>6.0</td>\n",
              "      <td>0.0</td>\n",
              "      <td>6.0</td>\n",
              "      <td>6.0</td>\n",
              "      <td>6.0</td>\n",
              "      <td>0.0</td>\n",
              "      <td>1.100917e+05</td>\n",
              "      <td>18348.62385</td>\n",
              "      <td>109.0</td>\n",
              "      <td>0.0</td>\n",
              "      <td>109.0</td>\n",
              "      <td>109.0</td>\n",
              "      <td>0.0</td>\n",
              "      <td>0.0</td>\n",
              "      <td>0.0</td>\n",
              "      <td>0.0</td>\n",
              "      <td>0.0</td>\n",
              "      <td>0.0</td>\n",
              "      <td>0.0</td>\n",
              "      <td>0.0</td>\n",
              "      <td>0.0</td>\n",
              "      <td>0.0</td>\n",
              "      <td>0.0</td>\n",
              "      <td>0.0</td>\n",
              "      <td>0.0</td>\n",
              "      <td>0.0</td>\n",
              "      <td>20.0</td>\n",
              "      <td>20.0</td>\n",
              "      <td>9174.311927</td>\n",
              "      <td>9174.311927</td>\n",
              "      <td>6.0</td>\n",
              "      <td>6.0</td>\n",
              "      <td>6.0</td>\n",
              "      <td>0.0</td>\n",
              "      <td>0.0</td>\n",
              "      <td>0.0</td>\n",
              "      <td>0.0</td>\n",
              "      <td>0.0</td>\n",
              "      <td>0.0</td>\n",
              "      <td>1.0</td>\n",
              "      <td>1.0</td>\n",
              "      <td>0.0</td>\n",
              "      <td>0.0</td>\n",
              "      <td>1.0</td>\n",
              "      <td>9.0</td>\n",
              "      <td>6.0</td>\n",
              "      <td>6.0</td>\n",
              "      <td>20.0</td>\n",
              "      <td>0.0</td>\n",
              "      <td>0.0</td>\n",
              "      <td>0.0</td>\n",
              "      <td>0.0</td>\n",
              "      <td>0.0</td>\n",
              "      <td>0.0</td>\n",
              "      <td>1.0</td>\n",
              "      <td>6.0</td>\n",
              "      <td>1.0</td>\n",
              "      <td>6.0</td>\n",
              "      <td>29.0</td>\n",
              "      <td>256.0</td>\n",
              "      <td>0.0</td>\n",
              "      <td>20.0</td>\n",
              "      <td>0.0</td>\n",
              "      <td>0.0</td>\n",
              "      <td>0.0</td>\n",
              "      <td>0.0</td>\n",
              "      <td>0.0</td>\n",
              "      <td>0.0</td>\n",
              "      <td>0.0</td>\n",
              "      <td>0.0</td>\n",
              "      <td>BENIGN</td>\n",
              "    </tr>\n",
              "    <tr>\n",
              "      <th>2</th>\n",
              "      <td>192.168.10.5-104.16.28.216-55055-80-6</td>\n",
              "      <td>104.16.28.216</td>\n",
              "      <td>80.0</td>\n",
              "      <td>192.168.10.5</td>\n",
              "      <td>55055.0</td>\n",
              "      <td>6.0</td>\n",
              "      <td>7/7/2017 3:30</td>\n",
              "      <td>52.0</td>\n",
              "      <td>1.0</td>\n",
              "      <td>1.0</td>\n",
              "      <td>6.0</td>\n",
              "      <td>6.0</td>\n",
              "      <td>6.0</td>\n",
              "      <td>6.0</td>\n",
              "      <td>6.0</td>\n",
              "      <td>0.0</td>\n",
              "      <td>6.0</td>\n",
              "      <td>6.0</td>\n",
              "      <td>6.0</td>\n",
              "      <td>0.0</td>\n",
              "      <td>2.307692e+05</td>\n",
              "      <td>38461.53846</td>\n",
              "      <td>52.0</td>\n",
              "      <td>0.0</td>\n",
              "      <td>52.0</td>\n",
              "      <td>52.0</td>\n",
              "      <td>0.0</td>\n",
              "      <td>0.0</td>\n",
              "      <td>0.0</td>\n",
              "      <td>0.0</td>\n",
              "      <td>0.0</td>\n",
              "      <td>0.0</td>\n",
              "      <td>0.0</td>\n",
              "      <td>0.0</td>\n",
              "      <td>0.0</td>\n",
              "      <td>0.0</td>\n",
              "      <td>0.0</td>\n",
              "      <td>0.0</td>\n",
              "      <td>0.0</td>\n",
              "      <td>0.0</td>\n",
              "      <td>20.0</td>\n",
              "      <td>20.0</td>\n",
              "      <td>19230.769230</td>\n",
              "      <td>19230.769230</td>\n",
              "      <td>6.0</td>\n",
              "      <td>6.0</td>\n",
              "      <td>6.0</td>\n",
              "      <td>0.0</td>\n",
              "      <td>0.0</td>\n",
              "      <td>0.0</td>\n",
              "      <td>0.0</td>\n",
              "      <td>0.0</td>\n",
              "      <td>0.0</td>\n",
              "      <td>1.0</td>\n",
              "      <td>1.0</td>\n",
              "      <td>0.0</td>\n",
              "      <td>0.0</td>\n",
              "      <td>1.0</td>\n",
              "      <td>9.0</td>\n",
              "      <td>6.0</td>\n",
              "      <td>6.0</td>\n",
              "      <td>20.0</td>\n",
              "      <td>0.0</td>\n",
              "      <td>0.0</td>\n",
              "      <td>0.0</td>\n",
              "      <td>0.0</td>\n",
              "      <td>0.0</td>\n",
              "      <td>0.0</td>\n",
              "      <td>1.0</td>\n",
              "      <td>6.0</td>\n",
              "      <td>1.0</td>\n",
              "      <td>6.0</td>\n",
              "      <td>29.0</td>\n",
              "      <td>256.0</td>\n",
              "      <td>0.0</td>\n",
              "      <td>20.0</td>\n",
              "      <td>0.0</td>\n",
              "      <td>0.0</td>\n",
              "      <td>0.0</td>\n",
              "      <td>0.0</td>\n",
              "      <td>0.0</td>\n",
              "      <td>0.0</td>\n",
              "      <td>0.0</td>\n",
              "      <td>0.0</td>\n",
              "      <td>BENIGN</td>\n",
              "    </tr>\n",
              "  </tbody>\n",
              "</table>\n",
              "</div>"
            ]
          },
          "metadata": {},
          "execution_count": 6
        }
      ]
    },
    {
      "cell_type": "markdown",
      "source": [
        "CHECKING TARGET VARIABLE COUNT FOR EACH RECORD\n"
      ],
      "metadata": {
        "id": "Th7zeqqEs6nz"
      }
    },
    {
      "cell_type": "code",
      "source": [
        "# Count the occurrences of each label in the 'Label' column\n",
        "label_counts = frame['Label'].value_counts()\n",
        "\n",
        "# Display the counts\n",
        "print(label_counts)\n"
      ],
      "metadata": {
        "colab": {
          "base_uri": "https://localhost:8080/"
        },
        "id": "uTBET-Cz-JDO",
        "outputId": "80b4c788-f787-4c34-ca12-523c0313bdce"
      },
      "execution_count": null,
      "outputs": [
        {
          "output_type": "stream",
          "name": "stdout",
          "text": [
            "Label\n",
            "BENIGN                        2271320\n",
            "DoS Hulk                       230124\n",
            "PortScan                       158804\n",
            "DDoS                           128025\n",
            "DoS GoldenEye                   10293\n",
            "FTP-Patator                      7935\n",
            "SSH-Patator                      5897\n",
            "DoS slowloris                    5796\n",
            "DoS Slowhttptest                 5499\n",
            "Bot                              1956\n",
            "Web Attack  Brute Force         1507\n",
            "Web Attack  XSS                  652\n",
            "Infiltration                       36\n",
            "Web Attack  Sql Injection         21\n",
            "Heartbleed                         11\n",
            "Name: count, dtype: int64\n"
          ]
        }
      ]
    },
    {
      "cell_type": "markdown",
      "source": [
        "SAMPLING ONLY 20 PERCENT OF DATASET"
      ],
      "metadata": {
        "id": "TdM9JS3ptHrI"
      }
    },
    {
      "cell_type": "code",
      "source": [
        "# Set a random seed for reproducibility\n",
        "random_seed = 42\n",
        "\n",
        "# Calculate 20% of the current size of the DataFrame\n",
        "sample_size = int(len(frame) * 0.2)\n",
        "\n",
        "# Sample 20% of the DataFrame with shuffling\n",
        "sampled_frame = frame.sample(n=sample_size, random_state=random_seed, replace=False)\n",
        "\n",
        "# Reset the index of the sampled DataFrame\n",
        "sampled_frame.reset_index(drop=True, inplace=True)\n",
        "\n",
        "# Display the shape and counts of the sampled DataFrame\n",
        "print(\"Sampled DataFrame Shape:\", sampled_frame.shape)\n",
        "print(sampled_frame['Label'].value_counts())\n"
      ],
      "metadata": {
        "colab": {
          "base_uri": "https://localhost:8080/"
        },
        "id": "NEkCiG2n_1XR",
        "outputId": "70883c99-6f6a-412f-be18-6d77bd1cd9ad"
      },
      "execution_count": null,
      "outputs": [
        {
          "output_type": "stream",
          "name": "stdout",
          "text": [
            "Sampled DataFrame Shape: (565575, 85)\n",
            "Label\n",
            "BENIGN                        454088\n",
            "DoS Hulk                       46259\n",
            "PortScan                       31712\n",
            "DDoS                           25588\n",
            "DoS GoldenEye                   2055\n",
            "FTP-Patator                     1570\n",
            "SSH-Patator                     1242\n",
            "DoS slowloris                   1146\n",
            "DoS Slowhttptest                1103\n",
            "Bot                              386\n",
            "Web Attack  Brute Force         291\n",
            "Web Attack  XSS                 122\n",
            "Infiltration                       5\n",
            "Web Attack  Sql Injection         5\n",
            "Heartbleed                         3\n",
            "Name: count, dtype: int64\n"
          ]
        }
      ]
    },
    {
      "cell_type": "markdown",
      "source": [
        "ONLY USING RECORDS HAVING ABOVE 25K RECORDS PER TARGET VARIABLE\n"
      ],
      "metadata": {
        "id": "43Fd6HO1tm7H"
      }
    },
    {
      "cell_type": "code",
      "source": [
        "# Define the threshold\n",
        "threshold = 25000\n",
        "\n",
        "# Count occurrences of each label\n",
        "label_counts = sampled_frame['Label'].value_counts()\n",
        "\n",
        "# Keep only labels above the threshold\n",
        "labels_to_keep = label_counts[label_counts >= threshold].index\n",
        "\n",
        "# Create a new DataFrame with only the labels above the threshold\n",
        "filtered_frame = sampled_frame[sampled_frame['Label'].isin(labels_to_keep)]\n",
        "\n",
        "# Reset the index of the filtered DataFrame\n",
        "filtered_frame.reset_index(drop=True, inplace=True)\n",
        "\n",
        "# Display the shape and counts of the filtered DataFrame\n",
        "print(\"Filtered DataFrame Shape:\", filtered_frame.shape)\n",
        "print(filtered_frame['Label'].value_counts())\n"
      ],
      "metadata": {
        "colab": {
          "base_uri": "https://localhost:8080/"
        },
        "id": "TsAS9rEtAV30",
        "outputId": "9c3c1d3a-1b55-4b05-b83c-a1d59eeb9781"
      },
      "execution_count": null,
      "outputs": [
        {
          "output_type": "stream",
          "name": "stdout",
          "text": [
            "Filtered DataFrame Shape: (557647, 85)\n",
            "Label\n",
            "BENIGN      454088\n",
            "DoS Hulk     46259\n",
            "PortScan     31712\n",
            "DDoS         25588\n",
            "Name: count, dtype: int64\n"
          ]
        }
      ]
    },
    {
      "cell_type": "markdown",
      "source": [
        "CHECKING DIFFERENT DATA TYPES FOR EACH FEATURE\n"
      ],
      "metadata": {
        "id": "fItl04s5t3qB"
      }
    },
    {
      "cell_type": "code",
      "source": [
        "filtered_frame.info()"
      ],
      "metadata": {
        "colab": {
          "base_uri": "https://localhost:8080/"
        },
        "id": "on71dkqKBKJw",
        "outputId": "53a27e4d-8d14-4576-f121-2c54807a539a"
      },
      "execution_count": null,
      "outputs": [
        {
          "output_type": "stream",
          "name": "stdout",
          "text": [
            "<class 'pandas.core.frame.DataFrame'>\n",
            "RangeIndex: 557647 entries, 0 to 557646\n",
            "Data columns (total 85 columns):\n",
            " #   Column                       Non-Null Count   Dtype  \n",
            "---  ------                       --------------   -----  \n",
            " 0   Flow ID                      557647 non-null  object \n",
            " 1   Source IP                    557647 non-null  object \n",
            " 2   Source Port                  557647 non-null  float64\n",
            " 3   Destination IP               557647 non-null  object \n",
            " 4   Destination Port             557647 non-null  float64\n",
            " 5   Protocol                     557647 non-null  float64\n",
            " 6   Timestamp                    557647 non-null  object \n",
            " 7   Flow Duration                557647 non-null  float64\n",
            " 8   Total Fwd Packets            557647 non-null  float64\n",
            " 9   Total Backward Packets       557647 non-null  float64\n",
            " 10  Total Length of Fwd Packets  557647 non-null  float64\n",
            " 11  Total Length of Bwd Packets  557647 non-null  float64\n",
            " 12  Fwd Packet Length Max        557647 non-null  float64\n",
            " 13  Fwd Packet Length Min        557647 non-null  float64\n",
            " 14  Fwd Packet Length Mean       557647 non-null  float64\n",
            " 15  Fwd Packet Length Std        557647 non-null  float64\n",
            " 16  Bwd Packet Length Max        557647 non-null  float64\n",
            " 17  Bwd Packet Length Min        557647 non-null  float64\n",
            " 18  Bwd Packet Length Mean       557647 non-null  float64\n",
            " 19  Bwd Packet Length Std        557647 non-null  float64\n",
            " 20  Flow Bytes/s                 557647 non-null  float64\n",
            " 21  Flow Packets/s               557647 non-null  float64\n",
            " 22  Flow IAT Mean                557647 non-null  float64\n",
            " 23  Flow IAT Std                 557647 non-null  float64\n",
            " 24  Flow IAT Max                 557647 non-null  float64\n",
            " 25  Flow IAT Min                 557647 non-null  float64\n",
            " 26  Fwd IAT Total                557647 non-null  float64\n",
            " 27  Fwd IAT Mean                 557647 non-null  float64\n",
            " 28  Fwd IAT Std                  557647 non-null  float64\n",
            " 29  Fwd IAT Max                  557647 non-null  float64\n",
            " 30  Fwd IAT Min                  557647 non-null  float64\n",
            " 31  Bwd IAT Total                557647 non-null  float64\n",
            " 32  Bwd IAT Mean                 557647 non-null  float64\n",
            " 33  Bwd IAT Std                  557647 non-null  float64\n",
            " 34  Bwd IAT Max                  557647 non-null  float64\n",
            " 35  Bwd IAT Min                  557647 non-null  float64\n",
            " 36  Fwd PSH Flags                557647 non-null  float64\n",
            " 37  Bwd PSH Flags                557647 non-null  float64\n",
            " 38  Fwd URG Flags                557647 non-null  float64\n",
            " 39  Bwd URG Flags                557647 non-null  float64\n",
            " 40  Fwd Header Length            557647 non-null  float64\n",
            " 41  Bwd Header Length            557647 non-null  float64\n",
            " 42  Fwd Packets/s                557647 non-null  float64\n",
            " 43  Bwd Packets/s                557647 non-null  float64\n",
            " 44  Min Packet Length            557647 non-null  float64\n",
            " 45  Max Packet Length            557647 non-null  float64\n",
            " 46  Packet Length Mean           557647 non-null  float64\n",
            " 47  Packet Length Std            557647 non-null  float64\n",
            " 48  Packet Length Variance       557647 non-null  float64\n",
            " 49  FIN Flag Count               557647 non-null  float64\n",
            " 50  SYN Flag Count               557647 non-null  float64\n",
            " 51  RST Flag Count               557647 non-null  float64\n",
            " 52  PSH Flag Count               557647 non-null  float64\n",
            " 53  ACK Flag Count               557647 non-null  float64\n",
            " 54  URG Flag Count               557647 non-null  float64\n",
            " 55  CWE Flag Count               557647 non-null  float64\n",
            " 56  ECE Flag Count               557647 non-null  float64\n",
            " 57  Down/Up Ratio                557647 non-null  float64\n",
            " 58  Average Packet Size          557647 non-null  float64\n",
            " 59  Avg Fwd Segment Size         557647 non-null  float64\n",
            " 60  Avg Bwd Segment Size         557647 non-null  float64\n",
            " 61  Fwd Header Length.1          557647 non-null  float64\n",
            " 62  Fwd Avg Bytes/Bulk           557647 non-null  float64\n",
            " 63  Fwd Avg Packets/Bulk         557647 non-null  float64\n",
            " 64  Fwd Avg Bulk Rate            557647 non-null  float64\n",
            " 65  Bwd Avg Bytes/Bulk           557647 non-null  float64\n",
            " 66  Bwd Avg Packets/Bulk         557647 non-null  float64\n",
            " 67  Bwd Avg Bulk Rate            557647 non-null  float64\n",
            " 68  Subflow Fwd Packets          557647 non-null  float64\n",
            " 69  Subflow Fwd Bytes            557647 non-null  float64\n",
            " 70  Subflow Bwd Packets          557647 non-null  float64\n",
            " 71  Subflow Bwd Bytes            557647 non-null  float64\n",
            " 72  Init_Win_bytes_forward       557647 non-null  float64\n",
            " 73  Init_Win_bytes_backward      557647 non-null  float64\n",
            " 74  act_data_pkt_fwd             557647 non-null  float64\n",
            " 75  min_seg_size_forward         557647 non-null  float64\n",
            " 76  Active Mean                  557647 non-null  float64\n",
            " 77  Active Std                   557647 non-null  float64\n",
            " 78  Active Max                   557647 non-null  float64\n",
            " 79  Active Min                   557647 non-null  float64\n",
            " 80  Idle Mean                    557647 non-null  float64\n",
            " 81  Idle Std                     557647 non-null  float64\n",
            " 82  Idle Max                     557647 non-null  float64\n",
            " 83  Idle Min                     557647 non-null  float64\n",
            " 84  Label                        557647 non-null  object \n",
            "dtypes: float64(80), object(5)\n",
            "memory usage: 361.6+ MB\n"
          ]
        }
      ]
    },
    {
      "cell_type": "markdown",
      "source": [
        "DROPPING ALL FEATURES THAT ARE OBJECT TYPE EXCEPT TARGET VARIABLE\n"
      ],
      "metadata": {
        "id": "2LDoV2PRt_6F"
      }
    },
    {
      "cell_type": "code",
      "source": [
        "# Define the columns to drop\n",
        "columns_to_drop = ['Flow ID', 'Source IP', 'Destination IP', 'Timestamp']\n",
        "\n",
        "# Remove the specified columns\n",
        "filtered_frame = filtered_frame.drop(columns=columns_to_drop)\n",
        "\n",
        "# Display the new DataFrame shape and remaining columns\n",
        "print(\"New DataFrame Shape:\", filtered_frame.shape)\n",
        "print(filtered_frame.columns)\n"
      ],
      "metadata": {
        "colab": {
          "base_uri": "https://localhost:8080/"
        },
        "id": "ZiLeYXbjBmQW",
        "outputId": "c6f37dcc-7b4a-413b-b770-ee75c4bfc662"
      },
      "execution_count": null,
      "outputs": [
        {
          "output_type": "stream",
          "name": "stdout",
          "text": [
            "New DataFrame Shape: (557647, 81)\n",
            "Index(['Source Port', 'Destination Port', 'Protocol', 'Flow Duration',\n",
            "       'Total Fwd Packets', 'Total Backward Packets',\n",
            "       'Total Length of Fwd Packets', 'Total Length of Bwd Packets',\n",
            "       'Fwd Packet Length Max', 'Fwd Packet Length Min',\n",
            "       'Fwd Packet Length Mean', 'Fwd Packet Length Std',\n",
            "       'Bwd Packet Length Max', 'Bwd Packet Length Min',\n",
            "       'Bwd Packet Length Mean', 'Bwd Packet Length Std', 'Flow Bytes/s',\n",
            "       'Flow Packets/s', 'Flow IAT Mean', 'Flow IAT Std', 'Flow IAT Max',\n",
            "       'Flow IAT Min', 'Fwd IAT Total', 'Fwd IAT Mean', 'Fwd IAT Std',\n",
            "       'Fwd IAT Max', 'Fwd IAT Min', 'Bwd IAT Total', 'Bwd IAT Mean',\n",
            "       'Bwd IAT Std', 'Bwd IAT Max', 'Bwd IAT Min', 'Fwd PSH Flags',\n",
            "       'Bwd PSH Flags', 'Fwd URG Flags', 'Bwd URG Flags', 'Fwd Header Length',\n",
            "       'Bwd Header Length', 'Fwd Packets/s', 'Bwd Packets/s',\n",
            "       'Min Packet Length', 'Max Packet Length', 'Packet Length Mean',\n",
            "       'Packet Length Std', 'Packet Length Variance', 'FIN Flag Count',\n",
            "       'SYN Flag Count', 'RST Flag Count', 'PSH Flag Count', 'ACK Flag Count',\n",
            "       'URG Flag Count', 'CWE Flag Count', 'ECE Flag Count', 'Down/Up Ratio',\n",
            "       'Average Packet Size', 'Avg Fwd Segment Size', 'Avg Bwd Segment Size',\n",
            "       'Fwd Header Length.1', 'Fwd Avg Bytes/Bulk', 'Fwd Avg Packets/Bulk',\n",
            "       'Fwd Avg Bulk Rate', 'Bwd Avg Bytes/Bulk', 'Bwd Avg Packets/Bulk',\n",
            "       'Bwd Avg Bulk Rate', 'Subflow Fwd Packets', 'Subflow Fwd Bytes',\n",
            "       'Subflow Bwd Packets', 'Subflow Bwd Bytes', 'Init_Win_bytes_forward',\n",
            "       'Init_Win_bytes_backward', 'act_data_pkt_fwd', 'min_seg_size_forward',\n",
            "       'Active Mean', 'Active Std', 'Active Max', 'Active Min', 'Idle Mean',\n",
            "       'Idle Std', 'Idle Max', 'Idle Min', 'Label'],\n",
            "      dtype='object')\n"
          ]
        }
      ]
    },
    {
      "cell_type": "code",
      "source": [
        "filtered_frame.info()"
      ],
      "metadata": {
        "colab": {
          "base_uri": "https://localhost:8080/"
        },
        "id": "tsVjM5c5BpT1",
        "outputId": "7697e0b7-ac0e-41ea-e669-292c552b9975"
      },
      "execution_count": null,
      "outputs": [
        {
          "output_type": "stream",
          "name": "stdout",
          "text": [
            "<class 'pandas.core.frame.DataFrame'>\n",
            "RangeIndex: 557647 entries, 0 to 557646\n",
            "Data columns (total 81 columns):\n",
            " #   Column                       Non-Null Count   Dtype  \n",
            "---  ------                       --------------   -----  \n",
            " 0   Source Port                  557647 non-null  float64\n",
            " 1   Destination Port             557647 non-null  float64\n",
            " 2   Protocol                     557647 non-null  float64\n",
            " 3   Flow Duration                557647 non-null  float64\n",
            " 4   Total Fwd Packets            557647 non-null  float64\n",
            " 5   Total Backward Packets       557647 non-null  float64\n",
            " 6   Total Length of Fwd Packets  557647 non-null  float64\n",
            " 7   Total Length of Bwd Packets  557647 non-null  float64\n",
            " 8   Fwd Packet Length Max        557647 non-null  float64\n",
            " 9   Fwd Packet Length Min        557647 non-null  float64\n",
            " 10  Fwd Packet Length Mean       557647 non-null  float64\n",
            " 11  Fwd Packet Length Std        557647 non-null  float64\n",
            " 12  Bwd Packet Length Max        557647 non-null  float64\n",
            " 13  Bwd Packet Length Min        557647 non-null  float64\n",
            " 14  Bwd Packet Length Mean       557647 non-null  float64\n",
            " 15  Bwd Packet Length Std        557647 non-null  float64\n",
            " 16  Flow Bytes/s                 557647 non-null  float64\n",
            " 17  Flow Packets/s               557647 non-null  float64\n",
            " 18  Flow IAT Mean                557647 non-null  float64\n",
            " 19  Flow IAT Std                 557647 non-null  float64\n",
            " 20  Flow IAT Max                 557647 non-null  float64\n",
            " 21  Flow IAT Min                 557647 non-null  float64\n",
            " 22  Fwd IAT Total                557647 non-null  float64\n",
            " 23  Fwd IAT Mean                 557647 non-null  float64\n",
            " 24  Fwd IAT Std                  557647 non-null  float64\n",
            " 25  Fwd IAT Max                  557647 non-null  float64\n",
            " 26  Fwd IAT Min                  557647 non-null  float64\n",
            " 27  Bwd IAT Total                557647 non-null  float64\n",
            " 28  Bwd IAT Mean                 557647 non-null  float64\n",
            " 29  Bwd IAT Std                  557647 non-null  float64\n",
            " 30  Bwd IAT Max                  557647 non-null  float64\n",
            " 31  Bwd IAT Min                  557647 non-null  float64\n",
            " 32  Fwd PSH Flags                557647 non-null  float64\n",
            " 33  Bwd PSH Flags                557647 non-null  float64\n",
            " 34  Fwd URG Flags                557647 non-null  float64\n",
            " 35  Bwd URG Flags                557647 non-null  float64\n",
            " 36  Fwd Header Length            557647 non-null  float64\n",
            " 37  Bwd Header Length            557647 non-null  float64\n",
            " 38  Fwd Packets/s                557647 non-null  float64\n",
            " 39  Bwd Packets/s                557647 non-null  float64\n",
            " 40  Min Packet Length            557647 non-null  float64\n",
            " 41  Max Packet Length            557647 non-null  float64\n",
            " 42  Packet Length Mean           557647 non-null  float64\n",
            " 43  Packet Length Std            557647 non-null  float64\n",
            " 44  Packet Length Variance       557647 non-null  float64\n",
            " 45  FIN Flag Count               557647 non-null  float64\n",
            " 46  SYN Flag Count               557647 non-null  float64\n",
            " 47  RST Flag Count               557647 non-null  float64\n",
            " 48  PSH Flag Count               557647 non-null  float64\n",
            " 49  ACK Flag Count               557647 non-null  float64\n",
            " 50  URG Flag Count               557647 non-null  float64\n",
            " 51  CWE Flag Count               557647 non-null  float64\n",
            " 52  ECE Flag Count               557647 non-null  float64\n",
            " 53  Down/Up Ratio                557647 non-null  float64\n",
            " 54  Average Packet Size          557647 non-null  float64\n",
            " 55  Avg Fwd Segment Size         557647 non-null  float64\n",
            " 56  Avg Bwd Segment Size         557647 non-null  float64\n",
            " 57  Fwd Header Length.1          557647 non-null  float64\n",
            " 58  Fwd Avg Bytes/Bulk           557647 non-null  float64\n",
            " 59  Fwd Avg Packets/Bulk         557647 non-null  float64\n",
            " 60  Fwd Avg Bulk Rate            557647 non-null  float64\n",
            " 61  Bwd Avg Bytes/Bulk           557647 non-null  float64\n",
            " 62  Bwd Avg Packets/Bulk         557647 non-null  float64\n",
            " 63  Bwd Avg Bulk Rate            557647 non-null  float64\n",
            " 64  Subflow Fwd Packets          557647 non-null  float64\n",
            " 65  Subflow Fwd Bytes            557647 non-null  float64\n",
            " 66  Subflow Bwd Packets          557647 non-null  float64\n",
            " 67  Subflow Bwd Bytes            557647 non-null  float64\n",
            " 68  Init_Win_bytes_forward       557647 non-null  float64\n",
            " 69  Init_Win_bytes_backward      557647 non-null  float64\n",
            " 70  act_data_pkt_fwd             557647 non-null  float64\n",
            " 71  min_seg_size_forward         557647 non-null  float64\n",
            " 72  Active Mean                  557647 non-null  float64\n",
            " 73  Active Std                   557647 non-null  float64\n",
            " 74  Active Max                   557647 non-null  float64\n",
            " 75  Active Min                   557647 non-null  float64\n",
            " 76  Idle Mean                    557647 non-null  float64\n",
            " 77  Idle Std                     557647 non-null  float64\n",
            " 78  Idle Max                     557647 non-null  float64\n",
            " 79  Idle Min                     557647 non-null  float64\n",
            " 80  Label                        557647 non-null  object \n",
            "dtypes: float64(80), object(1)\n",
            "memory usage: 344.6+ MB\n"
          ]
        }
      ]
    },
    {
      "cell_type": "markdown",
      "source": [
        "RESAMPLING RECORDS TO AVOID BIAS OVER MAJORITY CLASS AND MINORITY CLASS"
      ],
      "metadata": {
        "id": "DBCtGdUGuTmi"
      }
    },
    {
      "cell_type": "code",
      "source": [
        "from sklearn.utils import resample\n",
        "\n",
        "# Separate majority and minority classes\n",
        "df_majority = filtered_frame[filtered_frame['Label'] == 'BENIGN']\n",
        "df_minority_dos_hulk = filtered_frame[filtered_frame['Label'] == 'DoS Hulk']\n",
        "df_minority_portscan = filtered_frame[filtered_frame['Label'] == 'PortScan']\n",
        "df_minority_ddos = filtered_frame[filtered_frame['Label'] == 'DDoS']\n",
        "\n",
        "# Downsample the majority class to match the size of the largest minority class\n",
        "df_majority_downsampled = resample(df_majority,\n",
        "                                   replace=False,    # sample without replacement\n",
        "                                   n_samples=len(df_minority_dos_hulk),  # match minority class\n",
        "                                   random_state=42)  # reproducibility\n",
        "\n",
        "# Combine minority classes with downsampled majority class\n",
        "df_balanced = pd.concat([df_majority_downsampled,\n",
        "                         df_minority_dos_hulk,\n",
        "                         df_minority_portscan,\n",
        "                         df_minority_ddos])\n",
        "\n",
        "# Shuffle the combined dataframe\n",
        "df_balanced = df_balanced.sample(frac=1, random_state=42).reset_index(drop=True)\n",
        "\n",
        "# Display the shape and class distribution\n",
        "print(\"Balanced DataFrame Shape:\", df_balanced.shape)\n",
        "print(df_balanced['Label'].value_counts())\n"
      ],
      "metadata": {
        "colab": {
          "base_uri": "https://localhost:8080/"
        },
        "id": "-aAkuJRqBElK",
        "outputId": "5f22e9cb-9b8a-4ba4-c6e4-a0f27a7783b5"
      },
      "execution_count": null,
      "outputs": [
        {
          "output_type": "stream",
          "name": "stdout",
          "text": [
            "Balanced DataFrame Shape: (149818, 81)\n",
            "Label\n",
            "BENIGN      46259\n",
            "DoS Hulk    46259\n",
            "PortScan    31712\n",
            "DDoS        25588\n",
            "Name: count, dtype: int64\n"
          ]
        }
      ]
    },
    {
      "cell_type": "code",
      "source": [
        "# Save the balanced DataFrame to a CSV file\n",
        "df_balanced.to_csv('Desktop/nid/balanced_frame.csv', index=False)\n"
      ],
      "metadata": {
        "id": "zGgEX0p6D4pr"
      },
      "execution_count": null,
      "outputs": []
    },
    {
      "cell_type": "code",
      "source": [
        "# Constant features\n",
        "constant_features = get_constant_features(df_balanced)  # Use df_balanced instead of balanced_frame\n",
        "constant_features_list = constant_features.query(\"Desc=='Constant'\")['Var'].to_list()\n",
        "\n",
        "# Print the list of constant features\n",
        "print(constant_features_list)\n"
      ],
      "metadata": {
        "colab": {
          "base_uri": "https://localhost:8080/"
        },
        "id": "O7q6Eq_OFMU9",
        "outputId": "52edd885-331a-48ee-d7ce-851ab79fac6e"
      },
      "execution_count": null,
      "outputs": [
        {
          "output_type": "stream",
          "name": "stdout",
          "text": [
            "['Bwd PSH Flags', 'Bwd URG Flags', 'Fwd Avg Bytes/Bulk', 'Fwd Avg Packets/Bulk', 'Fwd Avg Bulk Rate', 'Bwd Avg Bytes/Bulk', 'Bwd Avg Packets/Bulk', 'Bwd Avg Bulk Rate']\n"
          ]
        }
      ]
    },
    {
      "cell_type": "code",
      "source": [
        "# Print the shape of the balanced DataFrame\n",
        "print(df_balanced.shape)\n"
      ],
      "metadata": {
        "colab": {
          "base_uri": "https://localhost:8080/"
        },
        "id": "uSHg5iIcQXeS",
        "outputId": "1514e7a6-41dc-4196-c46e-f5ef0ccaca99"
      },
      "execution_count": null,
      "outputs": [
        {
          "output_type": "stream",
          "name": "stdout",
          "text": [
            "(149818, 81)\n"
          ]
        }
      ]
    },
    {
      "cell_type": "code",
      "source": [
        "def new_dataset(dataset, selected_features):\n",
        "    # Create a new dataset by filtering only the selected features\n",
        "    return dataset[selected_features]\n"
      ],
      "metadata": {
        "id": "B2mV1jvqUNoR"
      },
      "execution_count": null,
      "outputs": []
    },
    {
      "cell_type": "code",
      "source": [
        "# Method used to remove features that are found on a list\n",
        "# Primarily used to remove constant and quasi-constant features\n",
        "\n",
        "def new_dataset_remove(dataset, anova_res):\n",
        "\n",
        "    for anova_column in range(len(anova_res)):\n",
        "        print(anova_res[anova_column])\n",
        "        # Removing the feature from the inputted dataset\n",
        "        dataset = dataset.drop(anova_res[anova_column], axis=1)\n",
        "\n",
        "    return dataset"
      ],
      "metadata": {
        "id": "mCfAI0u6GPY4"
      },
      "execution_count": null,
      "outputs": []
    },
    {
      "cell_type": "code",
      "source": [
        "# Removing constant features\n",
        "new_frame = new_dataset_remove(df_balanced, constant_features_list)\n",
        "print(new_frame.columns)\n"
      ],
      "metadata": {
        "colab": {
          "base_uri": "https://localhost:8080/"
        },
        "id": "xAQmNH_mGVjo",
        "outputId": "866e35eb-6322-45d9-a541-57ab4541f01c"
      },
      "execution_count": null,
      "outputs": [
        {
          "output_type": "stream",
          "name": "stdout",
          "text": [
            "Bwd PSH Flags\n",
            "Bwd URG Flags\n",
            "Fwd Avg Bytes/Bulk\n",
            "Fwd Avg Packets/Bulk\n",
            "Fwd Avg Bulk Rate\n",
            "Bwd Avg Bytes/Bulk\n",
            "Bwd Avg Packets/Bulk\n",
            "Bwd Avg Bulk Rate\n",
            "Index(['Source Port', 'Destination Port', 'Protocol', 'Flow Duration',\n",
            "       'Total Fwd Packets', 'Total Backward Packets',\n",
            "       'Total Length of Fwd Packets', 'Total Length of Bwd Packets',\n",
            "       'Fwd Packet Length Max', 'Fwd Packet Length Min',\n",
            "       'Fwd Packet Length Mean', 'Fwd Packet Length Std',\n",
            "       'Bwd Packet Length Max', 'Bwd Packet Length Min',\n",
            "       'Bwd Packet Length Mean', 'Bwd Packet Length Std', 'Flow Bytes/s',\n",
            "       'Flow Packets/s', 'Flow IAT Mean', 'Flow IAT Std', 'Flow IAT Max',\n",
            "       'Flow IAT Min', 'Fwd IAT Total', 'Fwd IAT Mean', 'Fwd IAT Std',\n",
            "       'Fwd IAT Max', 'Fwd IAT Min', 'Bwd IAT Total', 'Bwd IAT Mean',\n",
            "       'Bwd IAT Std', 'Bwd IAT Max', 'Bwd IAT Min', 'Fwd PSH Flags',\n",
            "       'Fwd URG Flags', 'Fwd Header Length', 'Bwd Header Length',\n",
            "       'Fwd Packets/s', 'Bwd Packets/s', 'Min Packet Length',\n",
            "       'Max Packet Length', 'Packet Length Mean', 'Packet Length Std',\n",
            "       'Packet Length Variance', 'FIN Flag Count', 'SYN Flag Count',\n",
            "       'RST Flag Count', 'PSH Flag Count', 'ACK Flag Count', 'URG Flag Count',\n",
            "       'CWE Flag Count', 'ECE Flag Count', 'Down/Up Ratio',\n",
            "       'Average Packet Size', 'Avg Fwd Segment Size', 'Avg Bwd Segment Size',\n",
            "       'Fwd Header Length.1', 'Subflow Fwd Packets', 'Subflow Fwd Bytes',\n",
            "       'Subflow Bwd Packets', 'Subflow Bwd Bytes', 'Init_Win_bytes_forward',\n",
            "       'Init_Win_bytes_backward', 'act_data_pkt_fwd', 'min_seg_size_forward',\n",
            "       'Active Mean', 'Active Std', 'Active Max', 'Active Min', 'Idle Mean',\n",
            "       'Idle Std', 'Idle Max', 'Idle Min', 'Label'],\n",
            "      dtype='object')\n"
          ]
        }
      ]
    },
    {
      "cell_type": "code",
      "source": [
        "print(new_frame.shape)"
      ],
      "metadata": {
        "colab": {
          "base_uri": "https://localhost:8080/"
        },
        "id": "HhxLAA6LSHW4",
        "outputId": "46efb837-65b4-4b35-f0e6-38647a5501e7"
      },
      "execution_count": null,
      "outputs": [
        {
          "output_type": "stream",
          "name": "stdout",
          "text": [
            "(149818, 73)\n"
          ]
        }
      ]
    },
    {
      "cell_type": "code",
      "source": [
        "# Detecting quasi-constant features\n",
        "quasi_constant_features_list = constant_features.query(\"Desc=='Quasi Constant'\")['Var'].to_list()\n",
        "\n",
        "# Print the list of quasi-constant features\n",
        "print(quasi_constant_features_list)\n"
      ],
      "metadata": {
        "colab": {
          "base_uri": "https://localhost:8080/"
        },
        "id": "BxL08O2QGXbl",
        "outputId": "df132c27-b232-41ae-8eee-a60673f71ca1"
      },
      "execution_count": null,
      "outputs": [
        {
          "output_type": "stream",
          "name": "stdout",
          "text": [
            "['Fwd URG Flags', 'CWE Flag Count', 'RST Flag Count', 'ECE Flag Count']\n"
          ]
        }
      ]
    },
    {
      "cell_type": "code",
      "source": [
        "# Removing quasi-constant features\n",
        "new_frame_final = new_dataset_remove(new_frame, quasi_constant_features_list)\n"
      ],
      "metadata": {
        "colab": {
          "base_uri": "https://localhost:8080/"
        },
        "id": "9rDbLZN2Gf09",
        "outputId": "75b6d0ed-0256-4ba0-a8f1-1a92465ca94c"
      },
      "execution_count": null,
      "outputs": [
        {
          "output_type": "stream",
          "name": "stdout",
          "text": [
            "Fwd URG Flags\n",
            "CWE Flag Count\n",
            "RST Flag Count\n",
            "ECE Flag Count\n"
          ]
        }
      ]
    },
    {
      "cell_type": "code",
      "source": [
        "print(new_frame_final.shape)"
      ],
      "metadata": {
        "colab": {
          "base_uri": "https://localhost:8080/"
        },
        "id": "eHKtC41USevy",
        "outputId": "a7e70d6f-1d08-44dc-8c93-c769966214da"
      },
      "execution_count": null,
      "outputs": [
        {
          "output_type": "stream",
          "name": "stdout",
          "text": [
            "(149818, 69)\n"
          ]
        }
      ]
    },
    {
      "cell_type": "code",
      "source": [
        "new_frame_final.to_csv('Desktop/nid/cleaned_data.csv')"
      ],
      "metadata": {
        "id": "ovpVmEu4GiEV"
      },
      "execution_count": null,
      "outputs": []
    },
    {
      "cell_type": "code",
      "source": [
        "# The difference in the number of features with the class of the data\n",
        "# after removing the constant and quasi-constant features\n",
        "\n",
        "print(len(new_frame_final.columns))  # Number of features after removal\n",
        "print(len(df_balanced.columns))       # Number of features before removal\n"
      ],
      "metadata": {
        "colab": {
          "base_uri": "https://localhost:8080/"
        },
        "id": "-xPCdkkPGoii",
        "outputId": "75764012-ddee-4514-a9ca-aa9725aba4c8"
      },
      "execution_count": null,
      "outputs": [
        {
          "output_type": "stream",
          "name": "stdout",
          "text": [
            "69\n",
            "81\n"
          ]
        }
      ]
    },
    {
      "cell_type": "code",
      "source": [
        "# Importing the CSV file of the processed dataset.\n",
        "# This is used in case the machine needs to be powered off\n",
        "new_frame_final = pd.read_csv(r\"Desktop/nid/cleaned_data.csv\", index_col=\"Unnamed: 0\")\n",
        "new_frame_final = reduce_memory_usage(new_frame_final, convert_to_category=False)\n"
      ],
      "metadata": {
        "id": "sEjJNrfwHceT"
      },
      "execution_count": null,
      "outputs": []
    },
    {
      "cell_type": "code",
      "source": [
        "new_frame_final.head(3)"
      ],
      "metadata": {
        "colab": {
          "base_uri": "https://localhost:8080/",
          "height": 215
        },
        "id": "ML6rt81WHlkZ",
        "outputId": "d827cfc7-9685-4304-ba73-439d119ea39a"
      },
      "execution_count": null,
      "outputs": [
        {
          "output_type": "execute_result",
          "data": {
            "text/plain": [
              "   Source Port  Destination Port  Protocol  Flow Duration  Total Fwd Packets  \\\n",
              "0      55068.0             443.0       6.0      3785789.0                2.0   \n",
              "1      56216.0              80.0       6.0     98635744.0                7.0   \n",
              "2      50096.0           62078.0       6.0           49.0                1.0   \n",
              "\n",
              "   Total Backward Packets  Total Length of Fwd Packets  \\\n",
              "0                     0.0                         12.0   \n",
              "1                     7.0                        419.0   \n",
              "2                     1.0                          0.0   \n",
              "\n",
              "   Total Length of Bwd Packets  Fwd Packet Length Max  Fwd Packet Length Min  \\\n",
              "0                          0.0                    6.0                    6.0   \n",
              "1                      11595.0                  413.0                    0.0   \n",
              "2                          6.0                    0.0                    0.0   \n",
              "\n",
              "   Fwd Packet Length Mean  Fwd Packet Length Std  Bwd Packet Length Max  \\\n",
              "0                 6.00000                   0.00                    0.0   \n",
              "1                59.84375                 155.75                 5792.0   \n",
              "2                 0.00000                   0.00                    6.0   \n",
              "\n",
              "   Bwd Packet Length Min  Bwd Packet Length Mean  Bwd Packet Length Std  \\\n",
              "0                    0.0                     0.0                    0.0   \n",
              "1                    0.0                  1656.0                 2118.0   \n",
              "2                    6.0                     6.0                    0.0   \n",
              "\n",
              "    Flow Bytes/s  Flow Packets/s  Flow IAT Mean  Flow IAT Std  Flow IAT Max  \\\n",
              "0       3.169749        0.528291      3785789.0           0.0     3785789.0   \n",
              "1     121.801689        0.141936      7587365.0    27400000.0    98600000.0   \n",
              "2  122448.976562    40816.328125           49.0           0.0          49.0   \n",
              "\n",
              "   Flow IAT Min  Fwd IAT Total  Fwd IAT Mean  Fwd IAT Std  Fwd IAT Max  \\\n",
              "0     3785789.0      3785789.0     3785789.0          0.0    3785789.0   \n",
              "1           1.0     98600000.0    16400000.0   40300000.0   98600000.0   \n",
              "2          49.0            0.0           0.0          0.0          0.0   \n",
              "\n",
              "   Fwd IAT Min  Bwd IAT Total  Bwd IAT Mean  Bwd IAT Std  Bwd IAT Max  \\\n",
              "0    3785789.0            0.0           0.0        0.000          0.0   \n",
              "1          2.0        19533.0        3255.5     5169.625      12078.0   \n",
              "2          0.0            0.0           0.0        0.000          0.0   \n",
              "\n",
              "   Bwd IAT Min  Fwd PSH Flags  Fwd Header Length  Bwd Header Length  \\\n",
              "0          0.0            0.0               40.0                0.0   \n",
              "1          1.0            0.0              220.0              232.0   \n",
              "2          0.0            0.0               40.0               20.0   \n",
              "\n",
              "   Fwd Packets/s  Bwd Packets/s  Min Packet Length  Max Packet Length  \\\n",
              "0       0.528291       0.000000                6.0                6.0   \n",
              "1       0.070968       0.070968                0.0             5792.0   \n",
              "2   20408.164062   20408.164062                0.0                6.0   \n",
              "\n",
              "   Packet Length Mean  Packet Length Std  Packet Length Variance  \\\n",
              "0                 6.0           0.000000                     0.0   \n",
              "1               801.0        1619.000000               2619700.0   \n",
              "2                 2.0           3.464844                    12.0   \n",
              "\n",
              "   FIN Flag Count  SYN Flag Count  PSH Flag Count  ACK Flag Count  \\\n",
              "0             0.0             0.0             0.0             1.0   \n",
              "1             0.0             0.0             0.0             1.0   \n",
              "2             0.0             0.0             1.0             0.0   \n",
              "\n",
              "   URG Flag Count  Down/Up Ratio  Average Packet Size  Avg Fwd Segment Size  \\\n",
              "0             0.0            0.0                  9.0               6.00000   \n",
              "1             0.0            1.0                858.0              59.84375   \n",
              "2             0.0            1.0                  3.0               0.00000   \n",
              "\n",
              "   Avg Bwd Segment Size  Fwd Header Length.1  Subflow Fwd Packets  \\\n",
              "0                   0.0                 40.0                  2.0   \n",
              "1                1656.0                220.0                  7.0   \n",
              "2                   6.0                 40.0                  1.0   \n",
              "\n",
              "   Subflow Fwd Bytes  Subflow Bwd Packets  Subflow Bwd Bytes  \\\n",
              "0               12.0                  0.0                0.0   \n",
              "1              419.0                  7.0            11595.0   \n",
              "2                0.0                  1.0                6.0   \n",
              "\n",
              "   Init_Win_bytes_forward  Init_Win_bytes_backward  act_data_pkt_fwd  \\\n",
              "0                 63668.0                     -1.0               1.0   \n",
              "1                   274.0                    235.0               2.0   \n",
              "2                 29200.0                      0.0               0.0   \n",
              "\n",
              "   min_seg_size_forward  Active Mean  Active Std  Active Max  Active Min  \\\n",
              "0                  20.0          0.0         0.0         0.0         0.0   \n",
              "1                  20.0       1936.0         0.0      1936.0      1936.0   \n",
              "2                  40.0          0.0         0.0         0.0         0.0   \n",
              "\n",
              "    Idle Mean  Idle Std    Idle Max    Idle Min     Label  \n",
              "0         0.0       0.0         0.0         0.0    BENIGN  \n",
              "1  98600000.0       0.0  98600000.0  98600000.0  DoS Hulk  \n",
              "2         0.0       0.0         0.0         0.0  PortScan  "
            ],
            "text/html": [
              "<div>\n",
              "<style scoped>\n",
              "    .dataframe tbody tr th:only-of-type {\n",
              "        vertical-align: middle;\n",
              "    }\n",
              "\n",
              "    .dataframe tbody tr th {\n",
              "        vertical-align: top;\n",
              "    }\n",
              "\n",
              "    .dataframe thead th {\n",
              "        text-align: right;\n",
              "    }\n",
              "</style>\n",
              "<table border=\"1\" class=\"dataframe\">\n",
              "  <thead>\n",
              "    <tr style=\"text-align: right;\">\n",
              "      <th></th>\n",
              "      <th>Source Port</th>\n",
              "      <th>Destination Port</th>\n",
              "      <th>Protocol</th>\n",
              "      <th>Flow Duration</th>\n",
              "      <th>Total Fwd Packets</th>\n",
              "      <th>Total Backward Packets</th>\n",
              "      <th>Total Length of Fwd Packets</th>\n",
              "      <th>Total Length of Bwd Packets</th>\n",
              "      <th>Fwd Packet Length Max</th>\n",
              "      <th>Fwd Packet Length Min</th>\n",
              "      <th>Fwd Packet Length Mean</th>\n",
              "      <th>Fwd Packet Length Std</th>\n",
              "      <th>Bwd Packet Length Max</th>\n",
              "      <th>Bwd Packet Length Min</th>\n",
              "      <th>Bwd Packet Length Mean</th>\n",
              "      <th>Bwd Packet Length Std</th>\n",
              "      <th>Flow Bytes/s</th>\n",
              "      <th>Flow Packets/s</th>\n",
              "      <th>Flow IAT Mean</th>\n",
              "      <th>Flow IAT Std</th>\n",
              "      <th>Flow IAT Max</th>\n",
              "      <th>Flow IAT Min</th>\n",
              "      <th>Fwd IAT Total</th>\n",
              "      <th>Fwd IAT Mean</th>\n",
              "      <th>Fwd IAT Std</th>\n",
              "      <th>Fwd IAT Max</th>\n",
              "      <th>Fwd IAT Min</th>\n",
              "      <th>Bwd IAT Total</th>\n",
              "      <th>Bwd IAT Mean</th>\n",
              "      <th>Bwd IAT Std</th>\n",
              "      <th>Bwd IAT Max</th>\n",
              "      <th>Bwd IAT Min</th>\n",
              "      <th>Fwd PSH Flags</th>\n",
              "      <th>Fwd Header Length</th>\n",
              "      <th>Bwd Header Length</th>\n",
              "      <th>Fwd Packets/s</th>\n",
              "      <th>Bwd Packets/s</th>\n",
              "      <th>Min Packet Length</th>\n",
              "      <th>Max Packet Length</th>\n",
              "      <th>Packet Length Mean</th>\n",
              "      <th>Packet Length Std</th>\n",
              "      <th>Packet Length Variance</th>\n",
              "      <th>FIN Flag Count</th>\n",
              "      <th>SYN Flag Count</th>\n",
              "      <th>PSH Flag Count</th>\n",
              "      <th>ACK Flag Count</th>\n",
              "      <th>URG Flag Count</th>\n",
              "      <th>Down/Up Ratio</th>\n",
              "      <th>Average Packet Size</th>\n",
              "      <th>Avg Fwd Segment Size</th>\n",
              "      <th>Avg Bwd Segment Size</th>\n",
              "      <th>Fwd Header Length.1</th>\n",
              "      <th>Subflow Fwd Packets</th>\n",
              "      <th>Subflow Fwd Bytes</th>\n",
              "      <th>Subflow Bwd Packets</th>\n",
              "      <th>Subflow Bwd Bytes</th>\n",
              "      <th>Init_Win_bytes_forward</th>\n",
              "      <th>Init_Win_bytes_backward</th>\n",
              "      <th>act_data_pkt_fwd</th>\n",
              "      <th>min_seg_size_forward</th>\n",
              "      <th>Active Mean</th>\n",
              "      <th>Active Std</th>\n",
              "      <th>Active Max</th>\n",
              "      <th>Active Min</th>\n",
              "      <th>Idle Mean</th>\n",
              "      <th>Idle Std</th>\n",
              "      <th>Idle Max</th>\n",
              "      <th>Idle Min</th>\n",
              "      <th>Label</th>\n",
              "    </tr>\n",
              "  </thead>\n",
              "  <tbody>\n",
              "    <tr>\n",
              "      <th>0</th>\n",
              "      <td>55068.0</td>\n",
              "      <td>443.0</td>\n",
              "      <td>6.0</td>\n",
              "      <td>3785789.0</td>\n",
              "      <td>2.0</td>\n",
              "      <td>0.0</td>\n",
              "      <td>12.0</td>\n",
              "      <td>0.0</td>\n",
              "      <td>6.0</td>\n",
              "      <td>6.0</td>\n",
              "      <td>6.00000</td>\n",
              "      <td>0.00</td>\n",
              "      <td>0.0</td>\n",
              "      <td>0.0</td>\n",
              "      <td>0.0</td>\n",
              "      <td>0.0</td>\n",
              "      <td>3.169749</td>\n",
              "      <td>0.528291</td>\n",
              "      <td>3785789.0</td>\n",
              "      <td>0.0</td>\n",
              "      <td>3785789.0</td>\n",
              "      <td>3785789.0</td>\n",
              "      <td>3785789.0</td>\n",
              "      <td>3785789.0</td>\n",
              "      <td>0.0</td>\n",
              "      <td>3785789.0</td>\n",
              "      <td>3785789.0</td>\n",
              "      <td>0.0</td>\n",
              "      <td>0.0</td>\n",
              "      <td>0.000</td>\n",
              "      <td>0.0</td>\n",
              "      <td>0.0</td>\n",
              "      <td>0.0</td>\n",
              "      <td>40.0</td>\n",
              "      <td>0.0</td>\n",
              "      <td>0.528291</td>\n",
              "      <td>0.000000</td>\n",
              "      <td>6.0</td>\n",
              "      <td>6.0</td>\n",
              "      <td>6.0</td>\n",
              "      <td>0.000000</td>\n",
              "      <td>0.0</td>\n",
              "      <td>0.0</td>\n",
              "      <td>0.0</td>\n",
              "      <td>0.0</td>\n",
              "      <td>1.0</td>\n",
              "      <td>0.0</td>\n",
              "      <td>0.0</td>\n",
              "      <td>9.0</td>\n",
              "      <td>6.00000</td>\n",
              "      <td>0.0</td>\n",
              "      <td>40.0</td>\n",
              "      <td>2.0</td>\n",
              "      <td>12.0</td>\n",
              "      <td>0.0</td>\n",
              "      <td>0.0</td>\n",
              "      <td>63668.0</td>\n",
              "      <td>-1.0</td>\n",
              "      <td>1.0</td>\n",
              "      <td>20.0</td>\n",
              "      <td>0.0</td>\n",
              "      <td>0.0</td>\n",
              "      <td>0.0</td>\n",
              "      <td>0.0</td>\n",
              "      <td>0.0</td>\n",
              "      <td>0.0</td>\n",
              "      <td>0.0</td>\n",
              "      <td>0.0</td>\n",
              "      <td>BENIGN</td>\n",
              "    </tr>\n",
              "    <tr>\n",
              "      <th>1</th>\n",
              "      <td>56216.0</td>\n",
              "      <td>80.0</td>\n",
              "      <td>6.0</td>\n",
              "      <td>98635744.0</td>\n",
              "      <td>7.0</td>\n",
              "      <td>7.0</td>\n",
              "      <td>419.0</td>\n",
              "      <td>11595.0</td>\n",
              "      <td>413.0</td>\n",
              "      <td>0.0</td>\n",
              "      <td>59.84375</td>\n",
              "      <td>155.75</td>\n",
              "      <td>5792.0</td>\n",
              "      <td>0.0</td>\n",
              "      <td>1656.0</td>\n",
              "      <td>2118.0</td>\n",
              "      <td>121.801689</td>\n",
              "      <td>0.141936</td>\n",
              "      <td>7587365.0</td>\n",
              "      <td>27400000.0</td>\n",
              "      <td>98600000.0</td>\n",
              "      <td>1.0</td>\n",
              "      <td>98600000.0</td>\n",
              "      <td>16400000.0</td>\n",
              "      <td>40300000.0</td>\n",
              "      <td>98600000.0</td>\n",
              "      <td>2.0</td>\n",
              "      <td>19533.0</td>\n",
              "      <td>3255.5</td>\n",
              "      <td>5169.625</td>\n",
              "      <td>12078.0</td>\n",
              "      <td>1.0</td>\n",
              "      <td>0.0</td>\n",
              "      <td>220.0</td>\n",
              "      <td>232.0</td>\n",
              "      <td>0.070968</td>\n",
              "      <td>0.070968</td>\n",
              "      <td>0.0</td>\n",
              "      <td>5792.0</td>\n",
              "      <td>801.0</td>\n",
              "      <td>1619.000000</td>\n",
              "      <td>2619700.0</td>\n",
              "      <td>0.0</td>\n",
              "      <td>0.0</td>\n",
              "      <td>0.0</td>\n",
              "      <td>1.0</td>\n",
              "      <td>0.0</td>\n",
              "      <td>1.0</td>\n",
              "      <td>858.0</td>\n",
              "      <td>59.84375</td>\n",
              "      <td>1656.0</td>\n",
              "      <td>220.0</td>\n",
              "      <td>7.0</td>\n",
              "      <td>419.0</td>\n",
              "      <td>7.0</td>\n",
              "      <td>11595.0</td>\n",
              "      <td>274.0</td>\n",
              "      <td>235.0</td>\n",
              "      <td>2.0</td>\n",
              "      <td>20.0</td>\n",
              "      <td>1936.0</td>\n",
              "      <td>0.0</td>\n",
              "      <td>1936.0</td>\n",
              "      <td>1936.0</td>\n",
              "      <td>98600000.0</td>\n",
              "      <td>0.0</td>\n",
              "      <td>98600000.0</td>\n",
              "      <td>98600000.0</td>\n",
              "      <td>DoS Hulk</td>\n",
              "    </tr>\n",
              "    <tr>\n",
              "      <th>2</th>\n",
              "      <td>50096.0</td>\n",
              "      <td>62078.0</td>\n",
              "      <td>6.0</td>\n",
              "      <td>49.0</td>\n",
              "      <td>1.0</td>\n",
              "      <td>1.0</td>\n",
              "      <td>0.0</td>\n",
              "      <td>6.0</td>\n",
              "      <td>0.0</td>\n",
              "      <td>0.0</td>\n",
              "      <td>0.00000</td>\n",
              "      <td>0.00</td>\n",
              "      <td>6.0</td>\n",
              "      <td>6.0</td>\n",
              "      <td>6.0</td>\n",
              "      <td>0.0</td>\n",
              "      <td>122448.976562</td>\n",
              "      <td>40816.328125</td>\n",
              "      <td>49.0</td>\n",
              "      <td>0.0</td>\n",
              "      <td>49.0</td>\n",
              "      <td>49.0</td>\n",
              "      <td>0.0</td>\n",
              "      <td>0.0</td>\n",
              "      <td>0.0</td>\n",
              "      <td>0.0</td>\n",
              "      <td>0.0</td>\n",
              "      <td>0.0</td>\n",
              "      <td>0.0</td>\n",
              "      <td>0.000</td>\n",
              "      <td>0.0</td>\n",
              "      <td>0.0</td>\n",
              "      <td>0.0</td>\n",
              "      <td>40.0</td>\n",
              "      <td>20.0</td>\n",
              "      <td>20408.164062</td>\n",
              "      <td>20408.164062</td>\n",
              "      <td>0.0</td>\n",
              "      <td>6.0</td>\n",
              "      <td>2.0</td>\n",
              "      <td>3.464844</td>\n",
              "      <td>12.0</td>\n",
              "      <td>0.0</td>\n",
              "      <td>0.0</td>\n",
              "      <td>1.0</td>\n",
              "      <td>0.0</td>\n",
              "      <td>0.0</td>\n",
              "      <td>1.0</td>\n",
              "      <td>3.0</td>\n",
              "      <td>0.00000</td>\n",
              "      <td>6.0</td>\n",
              "      <td>40.0</td>\n",
              "      <td>1.0</td>\n",
              "      <td>0.0</td>\n",
              "      <td>1.0</td>\n",
              "      <td>6.0</td>\n",
              "      <td>29200.0</td>\n",
              "      <td>0.0</td>\n",
              "      <td>0.0</td>\n",
              "      <td>40.0</td>\n",
              "      <td>0.0</td>\n",
              "      <td>0.0</td>\n",
              "      <td>0.0</td>\n",
              "      <td>0.0</td>\n",
              "      <td>0.0</td>\n",
              "      <td>0.0</td>\n",
              "      <td>0.0</td>\n",
              "      <td>0.0</td>\n",
              "      <td>PortScan</td>\n",
              "    </tr>\n",
              "  </tbody>\n",
              "</table>\n",
              "</div>"
            ]
          },
          "metadata": {},
          "execution_count": 28
        }
      ]
    },
    {
      "cell_type": "code",
      "source": [
        "target_column = 'Label'\n",
        "\n",
        "# Initialize the LabelEncoder\n",
        "encoder = LabelEncoder()\n",
        "\n",
        "# Fit the encoder to the target column and transform it\n",
        "new_frame_final[target_column] = encoder.fit_transform(new_frame_final[target_column])\n",
        "\n",
        "# Creating the mapping of the encoded labels\n",
        "le_name_mapping = dict(zip(encoder.classes_, encoder.transform(encoder.classes_)))\n",
        "print(le_name_mapping)\n"
      ],
      "metadata": {
        "colab": {
          "base_uri": "https://localhost:8080/"
        },
        "id": "zQIAA7TBIwPN",
        "outputId": "2b5c9555-641f-4d37-dcff-ee86d075741b"
      },
      "execution_count": null,
      "outputs": [
        {
          "output_type": "stream",
          "name": "stdout",
          "text": [
            "{'BENIGN': 0, 'DDoS': 1, 'DoS Hulk': 2, 'PortScan': 3}\n"
          ]
        }
      ]
    },
    {
      "cell_type": "code",
      "source": [
        "# Splitting the dataset into training and testing sets\n",
        "X_train, X_test, y_train, y_test = train_test_split(\n",
        "    new_frame_final.drop(\"Label\", axis=1),\n",
        "    new_frame_final[\"Label\"],\n",
        "    test_size=0.2,\n",
        "    random_state=20,\n",
        "    stratify=new_frame_final[\"Label\"]\n",
        ")\n",
        "\n",
        "# Splitting the training set into training and validation sets\n",
        "X_train, X_validation, y_train, y_validation = train_test_split(\n",
        "    X_train,\n",
        "    y_train,\n",
        "    test_size=0.2,\n",
        "    random_state=20,\n",
        "    stratify=y_train\n",
        ")\n"
      ],
      "metadata": {
        "id": "E4q1uWctKHWH"
      },
      "execution_count": null,
      "outputs": []
    },
    {
      "cell_type": "code",
      "source": [
        "# Combining features and target labels into single arrays\n",
        "train_data = np.c_[X_train, y_train]\n",
        "test_data = np.c_[X_test, y_test]\n",
        "validate_data = np.c_[X_validation, y_validation]\n"
      ],
      "metadata": {
        "id": "nRobiEDzKRDw"
      },
      "execution_count": null,
      "outputs": []
    },
    {
      "cell_type": "code",
      "source": [
        "# Making the Pandas DataFrames\n",
        "df_train = pd.DataFrame(train_data, columns=new_frame_final.columns)\n",
        "df_test = pd.DataFrame(test_data, columns=new_frame_final.columns)\n",
        "df_validation = pd.DataFrame(validate_data, columns=new_frame_final.columns)\n"
      ],
      "metadata": {
        "id": "SuUgYBUAKWbh"
      },
      "execution_count": null,
      "outputs": []
    },
    {
      "cell_type": "code",
      "source": [
        "# Saving the DataFrames to CSV files\n",
        "df_train.to_csv('Desktop/nid/train_data.csv', index=False)\n",
        "df_test.to_csv('Desktop/nid/test_data.csv', index=False)\n",
        "df_validation.to_csv('Desktop/nid/validation_data.csv', index=False)\n"
      ],
      "metadata": {
        "id": "jPoLUYHjKc5T"
      },
      "execution_count": null,
      "outputs": []
    },
    {
      "cell_type": "code",
      "source": [
        "# Initializing and fitting the LabelEncoder\n",
        "encoder = LabelEncoder()\n",
        "encoder.fit(new_frame_final[\"Label\"])\n",
        "\n",
        "# Saving the classes to a NumPy file\n",
        "np.save('Desktop/nid/classes.npy', encoder.classes_)\n"
      ],
      "metadata": {
        "id": "jzpgwizcKmaJ"
      },
      "execution_count": null,
      "outputs": []
    },
    {
      "cell_type": "code",
      "source": [
        "import pandas as pd\n",
        "import numpy as np\n",
        "from sklearn.preprocessing import LabelEncoder\n",
        "\n",
        "# Function to reduce memory usage (make sure this function is defined elsewhere in your code)\n",
        "def reduce_memory_usage(df, convert_to_category=True):\n",
        "    # Implement your memory reduction logic here\n",
        "    return df\n",
        "\n",
        "# Loading the datasets without specifying an index (if the index is not needed)\n",
        "df_train = pd.read_csv(r\"Desktop/nid/train_data.csv\")\n",
        "df_train = reduce_memory_usage(df_train, convert_to_category=False)\n",
        "\n",
        "df_test = pd.read_csv(r\"Desktop/nid/test_data.csv\")\n",
        "df_test = reduce_memory_usage(df_test, convert_to_category=False)\n",
        "\n",
        "df_validation = pd.read_csv(r\"Desktop/nid/validation_data.csv\")\n",
        "df_validation = reduce_memory_usage(df_validation, convert_to_category=False)\n",
        "\n",
        "# Loading the LabelEncoder classes\n",
        "encoder = LabelEncoder()\n",
        "encoder.classes_ = np.load('Desktop/nid/classes.npy', allow_pickle=True)\n",
        "\n",
        "# Optional: Print the shapes of the DataFrames to confirm loading\n",
        "print(\"Train DataFrame shape:\", df_train.shape)\n",
        "print(\"Test DataFrame shape:\", df_test.shape)\n",
        "print(\"Validation DataFrame shape:\", df_validation.shape)\n"
      ],
      "metadata": {
        "id": "0VRePPNrLSof",
        "colab": {
          "base_uri": "https://localhost:8080/"
        },
        "outputId": "6a1a5d90-0758-44ad-a87f-67dfd4a154bd"
      },
      "execution_count": null,
      "outputs": [
        {
          "output_type": "stream",
          "name": "stdout",
          "text": [
            "Train DataFrame shape: (95883, 69)\n",
            "Test DataFrame shape: (29964, 69)\n",
            "Validation DataFrame shape: (23971, 69)\n"
          ]
        }
      ]
    },
    {
      "cell_type": "code",
      "source": [
        "df_test.info()"
      ],
      "metadata": {
        "colab": {
          "base_uri": "https://localhost:8080/"
        },
        "id": "9JA6F4jPYsyJ",
        "outputId": "34a13c84-2a5c-4118-93b0-893f156a481e"
      },
      "execution_count": null,
      "outputs": [
        {
          "output_type": "stream",
          "name": "stdout",
          "text": [
            "<class 'pandas.core.frame.DataFrame'>\n",
            "RangeIndex: 29964 entries, 0 to 29963\n",
            "Data columns (total 69 columns):\n",
            " #   Column                       Non-Null Count  Dtype  \n",
            "---  ------                       --------------  -----  \n",
            " 0   Source Port                  29964 non-null  float64\n",
            " 1   Destination Port             29964 non-null  float64\n",
            " 2   Protocol                     29964 non-null  float64\n",
            " 3   Flow Duration                29964 non-null  float64\n",
            " 4   Total Fwd Packets            29964 non-null  float64\n",
            " 5   Total Backward Packets       29964 non-null  float64\n",
            " 6   Total Length of Fwd Packets  29964 non-null  float64\n",
            " 7   Total Length of Bwd Packets  29964 non-null  float64\n",
            " 8   Fwd Packet Length Max        29964 non-null  float64\n",
            " 9   Fwd Packet Length Min        29964 non-null  float64\n",
            " 10  Fwd Packet Length Mean       29964 non-null  float64\n",
            " 11  Fwd Packet Length Std        29964 non-null  float64\n",
            " 12  Bwd Packet Length Max        29964 non-null  float64\n",
            " 13  Bwd Packet Length Min        29964 non-null  float64\n",
            " 14  Bwd Packet Length Mean       29964 non-null  float64\n",
            " 15  Bwd Packet Length Std        29964 non-null  float64\n",
            " 16  Flow Bytes/s                 29964 non-null  float64\n",
            " 17  Flow Packets/s               29964 non-null  float64\n",
            " 18  Flow IAT Mean                29964 non-null  float64\n",
            " 19  Flow IAT Std                 29964 non-null  float64\n",
            " 20  Flow IAT Max                 29964 non-null  float64\n",
            " 21  Flow IAT Min                 29964 non-null  float64\n",
            " 22  Fwd IAT Total                29964 non-null  float64\n",
            " 23  Fwd IAT Mean                 29964 non-null  float64\n",
            " 24  Fwd IAT Std                  29964 non-null  float64\n",
            " 25  Fwd IAT Max                  29964 non-null  float64\n",
            " 26  Fwd IAT Min                  29964 non-null  float64\n",
            " 27  Bwd IAT Total                29964 non-null  float64\n",
            " 28  Bwd IAT Mean                 29964 non-null  float64\n",
            " 29  Bwd IAT Std                  29964 non-null  float64\n",
            " 30  Bwd IAT Max                  29964 non-null  float64\n",
            " 31  Bwd IAT Min                  29964 non-null  float64\n",
            " 32  Fwd PSH Flags                29964 non-null  float64\n",
            " 33  Fwd Header Length            29964 non-null  float64\n",
            " 34  Bwd Header Length            29964 non-null  float64\n",
            " 35  Fwd Packets/s                29964 non-null  float64\n",
            " 36  Bwd Packets/s                29964 non-null  float64\n",
            " 37  Min Packet Length            29964 non-null  float64\n",
            " 38  Max Packet Length            29964 non-null  float64\n",
            " 39  Packet Length Mean           29964 non-null  float64\n",
            " 40  Packet Length Std            29964 non-null  float64\n",
            " 41  Packet Length Variance       29964 non-null  float64\n",
            " 42  FIN Flag Count               29964 non-null  float64\n",
            " 43  SYN Flag Count               29964 non-null  float64\n",
            " 44  PSH Flag Count               29964 non-null  float64\n",
            " 45  ACK Flag Count               29964 non-null  float64\n",
            " 46  URG Flag Count               29964 non-null  float64\n",
            " 47  Down/Up Ratio                29964 non-null  float64\n",
            " 48  Average Packet Size          29964 non-null  float64\n",
            " 49  Avg Fwd Segment Size         29964 non-null  float64\n",
            " 50  Avg Bwd Segment Size         29964 non-null  float64\n",
            " 51  Fwd Header Length.1          29964 non-null  float64\n",
            " 52  Subflow Fwd Packets          29964 non-null  float64\n",
            " 53  Subflow Fwd Bytes            29964 non-null  float64\n",
            " 54  Subflow Bwd Packets          29964 non-null  float64\n",
            " 55  Subflow Bwd Bytes            29964 non-null  float64\n",
            " 56  Init_Win_bytes_forward       29964 non-null  float64\n",
            " 57  Init_Win_bytes_backward      29964 non-null  float64\n",
            " 58  act_data_pkt_fwd             29964 non-null  float64\n",
            " 59  min_seg_size_forward         29964 non-null  float64\n",
            " 60  Active Mean                  29964 non-null  float64\n",
            " 61  Active Std                   29964 non-null  float64\n",
            " 62  Active Max                   29964 non-null  float64\n",
            " 63  Active Min                   29964 non-null  float64\n",
            " 64  Idle Mean                    29964 non-null  float64\n",
            " 65  Idle Std                     29964 non-null  float64\n",
            " 66  Idle Max                     29964 non-null  float64\n",
            " 67  Idle Min                     29964 non-null  float64\n",
            " 68  Label                        29964 non-null  float64\n",
            "dtypes: float64(69)\n",
            "memory usage: 15.8 MB\n"
          ]
        }
      ]
    },
    {
      "cell_type": "code",
      "source": [
        "import pandas as pd\n",
        "import numpy as np\n",
        "from sklearn.preprocessing import LabelEncoder, StandardScaler\n",
        "\n",
        "# Assuming you've already loaded your DataFrames (df_train, df_test, df_validation)\n",
        "\n",
        "# Initialize the LabelEncoder\n",
        "encoder = LabelEncoder()\n",
        "\n",
        "# Transform the labels in the training set\n",
        "df_train[\"Label\"] = encoder.fit_transform(df_train[\"Label\"])\n",
        "\n",
        "# Initialize the StandardScaler\n",
        "standard = StandardScaler()\n",
        "\n",
        "# Scale the feature values in the training set\n",
        "y_value_train = standard.fit_transform(df_train.drop(\"Label\", axis=1))\n",
        "\n",
        "# Transform the labels in the test set\n",
        "df_test[\"Label\"] = encoder.transform(df_test[\"Label\"])\n",
        "\n",
        "# Scale the feature values in the test set\n",
        "y_value_test = standard.transform(df_test.drop(\"Label\", axis=1))\n",
        "\n",
        "# Transform the labels in the validation set\n",
        "df_validation[\"Label\"] = encoder.transform(df_validation[\"Label\"])\n",
        "\n",
        "# Scale the feature values in the validation set\n",
        "y_value_valid = standard.transform(df_validation.drop(\"Label\", axis=1))\n",
        "\n",
        "# Optional: Display the shapes of the transformed arrays\n",
        "print(\"Transformed training features shape:\", y_value_train.shape)\n",
        "print(\"Transformed test features shape:\", y_value_test.shape)\n",
        "print(\"Transformed validation features shape:\", y_value_valid.shape)\n"
      ],
      "metadata": {
        "id": "EnA5oYwNLc6n",
        "colab": {
          "base_uri": "https://localhost:8080/"
        },
        "outputId": "98d709b1-839b-49e9-d617-096a3dfaebac"
      },
      "execution_count": null,
      "outputs": [
        {
          "output_type": "stream",
          "name": "stdout",
          "text": [
            "Transformed training features shape: (95883, 68)\n",
            "Transformed test features shape: (29964, 68)\n",
            "Transformed validation features shape: (23971, 68)\n"
          ]
        }
      ]
    },
    {
      "cell_type": "code",
      "source": [
        "# Updating the Pandas DataFrames with the new values after the application of StandardScaler\n",
        "\n",
        "# Create a new DataFrame for training data\n",
        "df_train = pd.DataFrame(np.c_[y_value_train, df_train[\"Label\"]], columns=df_train.columns)\n",
        "df_train = reduce_memory_usage(df_train, convert_to_category=False)\n",
        "\n",
        "# Create a new DataFrame for test data\n",
        "df_test = pd.DataFrame(np.c_[y_value_test, df_test[\"Label\"]], columns=df_test.columns)\n",
        "df_test = reduce_memory_usage(df_test, convert_to_category=False)\n",
        "\n",
        "# Create a new DataFrame for validation data\n",
        "df_validation = pd.DataFrame(np.c_[y_value_valid, df_validation[\"Label\"]], columns=df_validation.columns)\n",
        "df_validation = reduce_memory_usage(df_validation, convert_to_category=False)\n"
      ],
      "metadata": {
        "id": "S8PWqRclNOKK"
      },
      "execution_count": null,
      "outputs": []
    },
    {
      "cell_type": "code",
      "source": [
        "import pandas as pd\n",
        "from sklearn.feature_selection import SelectKBest, f_classif\n",
        "\n",
        "# Assuming df_train, df_test, and df_validation are already defined and loaded\n",
        "\n",
        "# Calculating the ANOVA F-test values\n",
        "# SelectKBest is trained with the training data and then the other datasets are\n",
        "# inputted in order to calculate the scores\n",
        "\n",
        "fs = SelectKBest(score_func=f_classif, k='all')  # k is the number of columns to be returned from this function\n",
        "\n",
        "# Separate features and target for training data\n",
        "y_train = df_train.iloc[:, [-1]]\n",
        "X_train = df_train.drop(y_train.columns, axis=1)\n",
        "\n",
        "# Separate features and target for test data\n",
        "y_test = df_test.iloc[:, [-1]]\n",
        "X_test = df_test.drop(y_test.columns, axis=1)\n",
        "\n",
        "# Separate features and target for validation data\n",
        "y_valid = df_validation.iloc[:, [-1]]\n",
        "X_valid = df_validation.drop(y_valid.columns, axis=1)\n",
        "\n",
        "# Fit and transform the training data\n",
        "X_train_fs = fs.fit_transform(X_train, y_train.values.ravel())\n",
        "\n",
        "# Transform the test and validation datasets\n",
        "X_test_fs = fs.transform(X_test)\n",
        "X_valid_fs = fs.transform(X_valid)\n",
        "\n",
        "# Optionally, create DataFrames for the transformed feature sets\n",
        "X_train_fs_df = pd.DataFrame(X_train_fs, columns=X_train.columns[fs.get_support()])\n",
        "X_test_fs_df = pd.DataFrame(X_test_fs, columns=X_train.columns[fs.get_support()])\n",
        "X_valid_fs_df = pd.DataFrame(X_valid_fs, columns=X_train.columns[fs.get_support()])\n",
        "\n",
        "# Analyzing the F-test scores\n",
        "scores = fs.scores_\n",
        "feature_names = X_train.columns\n",
        "score_df = pd.DataFrame({'Feature': feature_names, 'Score': scores})\n",
        "print(score_df.sort_values(by='Score', ascending=False))\n",
        "\n",
        "# Now, X_train_fs_df, X_test_fs_df, and X_valid_fs_df contain the transformed features\n"
      ],
      "metadata": {
        "colab": {
          "base_uri": "https://localhost:8080/"
        },
        "id": "s9zqxQBRNUv3",
        "outputId": "6e454490-bb16-4fa4-e00f-9158b487e6a4"
      },
      "execution_count": null,
      "outputs": [
        {
          "output_type": "stream",
          "name": "stdout",
          "text": [
            "                        Feature         Score\n",
            "44               PSH Flag Count  31116.448607\n",
            "14       Bwd Packet Length Mean  24762.713132\n",
            "50         Avg Bwd Segment Size  24762.709948\n",
            "67                     Idle Min  24188.217409\n",
            "64                    Idle Mean  23875.658183\n",
            "..                          ...           ...\n",
            "54          Subflow Bwd Packets      1.424420\n",
            "5        Total Backward Packets      1.424420\n",
            "58             act_data_pkt_fwd      1.293902\n",
            "7   Total Length of Bwd Packets      0.878346\n",
            "55            Subflow Bwd Bytes      0.878239\n",
            "\n",
            "[68 rows x 2 columns]\n"
          ]
        }
      ]
    },
    {
      "cell_type": "code",
      "source": [
        "import matplotlib.pyplot as plt\n",
        "import numpy as np\n",
        "\n",
        "# Assuming fs.scores_ and feature names are available\n",
        "# Create a bar plot of the ANOVA F-test scores\n",
        "plt.figure(figsize=(10, 6))  # Set figure size for better clarity\n",
        "plt.barh(range(len(fs.scores_)), fs.scores_, align='center')  # Horizontal bar chart for better readability\n",
        "\n",
        "# Adding feature names on the y-axis if available\n",
        "plt.yticks(range(len(fs.scores_)), X_train.columns)  # Use the actual feature names if needed\n",
        "\n",
        "plt.title(\"ANOVA F-test on All Features\")\n",
        "plt.xlabel(\"F-Test Result\")\n",
        "plt.ylabel(\"Features\")\n",
        "plt.savefig('Desktop/nid/AllFeatures.png')  # Save as a PNG file for better compatibility\n",
        "plt.show()\n"
      ],
      "metadata": {
        "colab": {
          "base_uri": "https://localhost:8080/",
          "height": 564
        },
        "id": "o7KboAQXNYeA",
        "outputId": "2c298972-774f-458a-bf9e-b9ed27583a97"
      },
      "execution_count": null,
      "outputs": [
        {
          "output_type": "display_data",
          "data": {
            "text/plain": [
              "<Figure size 1000x600 with 1 Axes>"
            ],
            "image/png": "[encoded data removed]"
          },
          "metadata": {}
        }
      ]
    },
    {
      "cell_type": "code",
      "source": [
        "from sklearn.feature_selection import SelectKBest, f_classif\n",
        "\n",
        "def selectKBest(train, test, valid, k):\n",
        "    sel = SelectKBest(score_func=f_classif, k=k)\n",
        "\n",
        "    # Prepare the data\n",
        "    y_train = train[\"Label\"]\n",
        "    X_train = train.drop(\"Label\", axis=1)\n",
        "\n",
        "    # Perform ANOVA F-test\n",
        "    sel.fit(X_train, y_train)\n",
        "\n",
        "    # Transform datasets\n",
        "    X_test_transformed = sel.transform(test.drop(\"Label\", axis=1))\n",
        "    X_valid_transformed = sel.transform(valid.drop(\"Label\", axis=1))\n",
        "\n",
        "    # Get the selected features\n",
        "    mask = sel.get_support()\n",
        "    selected_features = X_train.columns[mask].tolist()\n",
        "\n",
        "    return selected_features, X_test_transformed, X_valid_transformed\n",
        "\n",
        "# Now, select the 15 best features and transform the datasets\n",
        "selected_features, X_test_transformed, X_valid_transformed = selectKBest(df_train, df_test, df_validation, 15)\n",
        "\n",
        "# Print the selected features\n",
        "print(\"Selected 15 Best Features:\")\n",
        "print(selected_features)\n",
        "\n",
        "# Prepare datasets for training and evaluation\n",
        "y_train_selected = df_train[\"Label\"]\n",
        "x_train_selected = df_train[selected_features]  # Using selected features\n",
        "\n",
        "# Prepare test and validation datasets\n",
        "y_test_selected = df_test[\"Label\"]\n",
        "x_test_selected = X_test_transformed  # Already transformed\n",
        "y_valid_selected = df_validation[\"Label\"]\n",
        "x_valid_selected = X_valid_transformed  # Already transformed\n",
        "\n",
        "# Check shapes of the new datasets (optional)\n",
        "print(f\"x_train_selected shape: {x_train_selected.shape}\")\n",
        "print(f\"y_train_selected shape: {y_train_selected.shape}\")\n",
        "print(f\"x_test_selected shape: {x_test_selected.shape}\")\n",
        "print(f\"y_test_selected shape: {y_test_selected.shape}\")\n",
        "print(f\"x_valid_selected shape: {x_valid_selected.shape}\")\n",
        "print(f\"y_valid_selected shape: {y_valid_selected.shape}\")\n"
      ],
      "metadata": {
        "id": "VZIx--ZBNcz6",
        "colab": {
          "base_uri": "https://localhost:8080/"
        },
        "outputId": "12f641c9-18c2-48f5-b470-60093353f1e6"
      },
      "execution_count": null,
      "outputs": [
        {
          "output_type": "stream",
          "name": "stdout",
          "text": [
            "Selected 15 Best Features:\n",
            "['Bwd Packet Length Max', 'Bwd Packet Length Mean', 'Bwd Packet Length Std', 'Flow IAT Max', 'Fwd IAT Std', 'Fwd IAT Max', 'Max Packet Length', 'Packet Length Mean', 'Packet Length Std', 'PSH Flag Count', 'Average Packet Size', 'Avg Bwd Segment Size', 'Idle Mean', 'Idle Max', 'Idle Min']\n",
            "x_train_selected shape: (95883, 15)\n",
            "y_train_selected shape: (95883,)\n",
            "x_test_selected shape: (29964, 15)\n",
            "y_test_selected shape: (29964,)\n",
            "x_valid_selected shape: (23971, 15)\n",
            "y_valid_selected shape: (23971,)\n"
          ]
        }
      ]
    },
    {
      "cell_type": "code",
      "source": [
        "# Assuming you've already defined the necessary imports and the selectKBest function above\n",
        "\n",
        "# Select the 15 best features\n",
        "selected_features, X_test_transformed, X_valid_transformed = selectKBest(df_train, df_test, df_validation, 15)\n",
        "\n",
        "# Print the selected features\n",
        "print(\"Selected 15 Best Features:\")\n",
        "print(selected_features)\n",
        "\n",
        "# After selecting the features, you can prepare your datasets for training and evaluation\n",
        "# Prepare datasets for training and evaluation\n",
        "y_train_selected = df_train[\"Label\"]\n",
        "x_train_selected = df_train[selected_features]  # Using selected features\n",
        "\n",
        "# Prepare test and validation datasets\n",
        "y_test_selected = df_test[\"Label\"]\n",
        "x_test_selected = X_test_transformed  # Already transformed\n",
        "y_valid_selected = df_validation[\"Label\"]\n",
        "x_valid_selected = X_valid_transformed  # Already transformed\n",
        "\n",
        "# Check shapes of the new datasets (optional)\n",
        "print(f\"x_train_selected shape: {x_train_selected.shape}\")\n",
        "print(f\"y_train_selected shape: {y_train_selected.shape}\")\n",
        "print(f\"x_test_selected shape: {x_test_selected.shape}\")\n",
        "print(f\"y_test_selected shape: {y_test_selected.shape}\")\n",
        "print(f\"x_valid_selected shape: {x_valid_selected.shape}\")\n",
        "print(f\"y_valid_selected shape: {y_valid_selected.shape}\")\n"
      ],
      "metadata": {
        "id": "mJp96eh7bmzY",
        "colab": {
          "base_uri": "https://localhost:8080/"
        },
        "outputId": "3a5a0cbc-bc76-4eed-d415-78d7aeaea89f"
      },
      "execution_count": null,
      "outputs": [
        {
          "output_type": "stream",
          "name": "stdout",
          "text": [
            "Selected 15 Best Features:\n",
            "['Bwd Packet Length Max', 'Bwd Packet Length Mean', 'Bwd Packet Length Std', 'Flow IAT Max', 'Fwd IAT Std', 'Fwd IAT Max', 'Max Packet Length', 'Packet Length Mean', 'Packet Length Std', 'PSH Flag Count', 'Average Packet Size', 'Avg Bwd Segment Size', 'Idle Mean', 'Idle Max', 'Idle Min']\n",
            "x_train_selected shape: (95883, 15)\n",
            "y_train_selected shape: (95883,)\n",
            "x_test_selected shape: (29964, 15)\n",
            "y_test_selected shape: (29964,)\n",
            "x_valid_selected shape: (23971, 15)\n",
            "y_valid_selected shape: (23971,)\n"
          ]
        }
      ]
    },
    {
      "cell_type": "code",
      "source": [
        "# Select the 15 best features\n",
        "selected_features, X_test_transformed, X_valid_transformed = selectKBest(df_train, df_test, df_validation, 15)\n",
        "\n",
        "# Print the selected features\n",
        "print(\"Selected 15 Best Features:\")\n",
        "print(selected_features)\n",
        "\n",
        "# Extracting labels from the training and test datasets\n",
        "y_train_selected = df_train[\"Label\"]\n",
        "y_test_selected = df_test[\"Label\"]\n",
        "\n",
        "# Creating new datasets with only the selected features\n",
        "x_train_selected = new_dataset(df_train, selected_features)  # Using selected features\n",
        "x_test_selected = new_dataset(df_test, selected_features)     # Using selected features\n",
        "\n",
        "# Check shapes of the new datasets (optional)\n",
        "print(f\"x_train_selected shape: {x_train_selected.shape}\")\n",
        "print(f\"y_train_selected shape: {y_train_selected.shape}\")\n",
        "print(f\"x_test_selected shape: {x_test_selected.shape}\")\n",
        "print(f\"y_test_selected shape: {y_test_selected.shape}\")\n"
      ],
      "metadata": {
        "colab": {
          "base_uri": "https://localhost:8080/"
        },
        "id": "nHEc_K6sbsAG",
        "outputId": "cf584660-1ae5-4016-f414-728b1c9031f4"
      },
      "execution_count": null,
      "outputs": [
        {
          "output_type": "stream",
          "name": "stdout",
          "text": [
            "Selected 15 Best Features:\n",
            "['Bwd Packet Length Max', 'Bwd Packet Length Mean', 'Bwd Packet Length Std', 'Flow IAT Max', 'Fwd IAT Std', 'Fwd IAT Max', 'Max Packet Length', 'Packet Length Mean', 'Packet Length Std', 'PSH Flag Count', 'Average Packet Size', 'Avg Bwd Segment Size', 'Idle Mean', 'Idle Max', 'Idle Min']\n",
            "x_train_selected shape: (95883, 15)\n",
            "y_train_selected shape: (95883,)\n",
            "x_test_selected shape: (29964, 15)\n",
            "y_test_selected shape: (29964,)\n"
          ]
        }
      ]
    },
    {
      "cell_type": "code",
      "source": [
        "from sklearn.tree import DecisionTreeClassifier\n",
        "from sklearn.metrics import accuracy_score\n",
        "\n",
        "# Assuming you have already defined x_train_selected, y_train_selected, x_test_selected, y_test_selected\n",
        "\n",
        "# Training the DecisionTreeClassifier and evaluating its accuracy\n",
        "tree = DecisionTreeClassifier()\n",
        "tree.fit(x_train_selected, y_train_selected)  # Use selected training data\n",
        "\n",
        "# Make predictions on the test set\n",
        "y_test_pred_selected = tree.predict(x_test_selected)  # Use selected test data\n",
        "\n",
        "# Evaluate predictions\n",
        "accuracy = accuracy_score(y_test_selected, y_test_pred_selected)\n",
        "print('Accuracy: %.5f' % (accuracy * 100))\n"
      ],
      "metadata": {
        "colab": {
          "base_uri": "https://localhost:8080/"
        },
        "id": "Jl-yQ3lnbv6m",
        "outputId": "bfdf5e1e-9792-4465-f4b9-f371d1b6c286"
      },
      "execution_count": null,
      "outputs": [
        {
          "output_type": "stream",
          "name": "stdout",
          "text": [
            "Accuracy: 97.40355\n"
          ]
        }
      ]
    },
    {
      "cell_type": "code",
      "source": [
        "import pickle\n",
        "\n",
        "# Define the path where you want to save the selected features\n",
        "file_path = \"Desktop/nid/selected_features.txt\"\n",
        "\n",
        "# Open the file in write mode and save the selected features\n",
        "with open(file_path, \"w\") as f:\n",
        "    for feature in selected_features:  # Use selected_features\n",
        "        f.write(feature + \"\\n\")\n"
      ],
      "metadata": {
        "id": "lcSpa3rzdvKn"
      },
      "execution_count": null,
      "outputs": []
    },
    {
      "cell_type": "code",
      "source": [
        "# Define the path to the file containing the selected features\n",
        "file_path = \"Desktop/nid/selected_features.txt\"\n",
        "\n",
        "# Read the file and print the features\n",
        "with open(file_path, \"r\") as f:\n",
        "    saved_features = f.readlines()\n",
        "\n",
        "# Clean up the list (remove newline characters)\n",
        "saved_features = [feature.strip() for feature in saved_features]\n",
        "\n",
        "# Print the saved features\n",
        "print(\"Saved Selected Features:\")\n",
        "for feature in saved_features:\n",
        "    print(feature)\n",
        "\n",
        "# Check if the number of features is correct\n",
        "print(f\"\\nTotal features saved: {len(saved_features)}\")\n"
      ],
      "metadata": {
        "colab": {
          "base_uri": "https://localhost:8080/"
        },
        "id": "u7dFiyqc3osL",
        "outputId": "b1e050bb-ef87-4785-e80d-397bbfd66dc7"
      },
      "execution_count": null,
      "outputs": [
        {
          "output_type": "stream",
          "name": "stdout",
          "text": [
            "Saved Selected Features:\n",
            "Bwd Packet Length Max\n",
            "Bwd Packet Length Mean\n",
            "Bwd Packet Length Std\n",
            "Flow IAT Max\n",
            "Fwd IAT Std\n",
            "Fwd IAT Max\n",
            "Max Packet Length\n",
            "Packet Length Mean\n",
            "Packet Length Std\n",
            "PSH Flag Count\n",
            "Average Packet Size\n",
            "Avg Bwd Segment Size\n",
            "Idle Mean\n",
            "Idle Max\n",
            "Idle Min\n",
            "\n",
            "Total features saved: 15\n"
          ]
        }
      ]
    },
    {
      "cell_type": "code",
      "source": [
        "# Define the path to the file containing the selected features\n",
        "file_path = \"Desktop/nid/selected_features.txt\"\n",
        "\n",
        "# Read the file and print the features\n",
        "with open(file_path, \"r\") as f:\n",
        "    saved_features = f.readlines()\n",
        "\n",
        "# Clean up the list (remove newline characters)\n",
        "saved_features = [feature.strip() for feature in saved_features]\n",
        "\n",
        "# Print the saved features\n",
        "print(\"Saved Selected Features:\")\n",
        "for feature in saved_features:\n",
        "    print(feature)\n",
        "\n",
        "# Check if the number of features is correct\n",
        "print(f\"\\nTotal features saved: {len(saved_features)}\")\n"
      ],
      "metadata": {
        "id": "1zSZaAiheVSa",
        "colab": {
          "base_uri": "https://localhost:8080/"
        },
        "outputId": "38c47552-9f68-4219-fa13-69f257db6757"
      },
      "execution_count": null,
      "outputs": [
        {
          "output_type": "stream",
          "name": "stdout",
          "text": [
            "Saved Selected Features:\n",
            "Bwd Packet Length Max\n",
            "Bwd Packet Length Mean\n",
            "Bwd Packet Length Std\n",
            "Flow IAT Max\n",
            "Fwd IAT Std\n",
            "Fwd IAT Max\n",
            "Max Packet Length\n",
            "Packet Length Mean\n",
            "Packet Length Std\n",
            "PSH Flag Count\n",
            "Average Packet Size\n",
            "Avg Bwd Segment Size\n",
            "Idle Mean\n",
            "Idle Max\n",
            "Idle Min\n",
            "\n",
            "Total features saved: 15\n"
          ]
        }
      ]
    },
    {
      "cell_type": "code",
      "source": [
        "# Method used to ensure that the name in the feature file\n",
        "# matches the ones in the dataframes, ensuring feature reduction is performed\n",
        "\n",
        "def correct_names(columns, orig):\n",
        "    col = []\n",
        "    for orig_feature in orig:\n",
        "        for df_column in columns:\n",
        "            # Stripping any spaces or extra characters to match features correctly\n",
        "            if df_column.strip() == orig_feature.strip():\n",
        "                col.append(df_column)\n",
        "\n",
        "    return col\n"
      ],
      "metadata": {
        "id": "XHKomejEetrO"
      },
      "execution_count": null,
      "outputs": []
    },
    {
      "cell_type": "code",
      "source": [
        "import pandas as pd\n",
        "import numpy as np\n",
        "from sklearn.preprocessing import LabelEncoder\n",
        "\n",
        "# Function to reduce memory usage (ensure this function is implemented)\n",
        "def reduce_memory_usage(df, convert_to_category=True):\n",
        "    # Placeholder for memory reduction logic\n",
        "    return df\n",
        "\n",
        "# Load and optimize the train, test, and validation datasets without specifying an index\n",
        "df_train_vanilla = pd.read_csv(r\"Desktop/nid/train_data.csv\")\n",
        "df_train_vanilla = reduce_memory_usage(df_train_vanilla, convert_to_category=False)\n",
        "\n",
        "df_test_vanilla = pd.read_csv(r\"Desktop/nid/test_data.csv\")\n",
        "df_test_vanilla = reduce_memory_usage(df_test_vanilla, convert_to_category=False)\n",
        "\n",
        "df_validation_vanilla = pd.read_csv(r\"Desktop/nid/validation_data.csv\")\n",
        "df_validation_vanilla = reduce_memory_usage(df_validation_vanilla, convert_to_category=False)\n",
        "\n",
        "# Load the encoder\n",
        "encoder = LabelEncoder()\n",
        "encoder.classes_ = np.load(r'Desktop/nid/classes.npy', allow_pickle=True)\n",
        "\n",
        "# Optional: Print the shapes of the DataFrames to confirm successful loading\n",
        "print(\"Train DataFrame shape:\", df_train_vanilla.shape)\n",
        "print(\"Test DataFrame shape:\", df_test_vanilla.shape)\n",
        "print(\"Validation DataFrame shape:\", df_validation_vanilla.shape)\n"
      ],
      "metadata": {
        "id": "JeFcvdxXexQn",
        "colab": {
          "base_uri": "https://localhost:8080/"
        },
        "outputId": "ad86824a-8d1b-4af5-88ec-c810bb9774ea"
      },
      "execution_count": null,
      "outputs": [
        {
          "output_type": "stream",
          "name": "stdout",
          "text": [
            "Train DataFrame shape: (95883, 69)\n",
            "Test DataFrame shape: (29964, 69)\n",
            "Validation DataFrame shape: (23971, 16)\n"
          ]
        }
      ]
    },
    {
      "cell_type": "code",
      "source": [
        "# Transforming the 'Label' column in the training dataset using the LabelEncoder\n",
        "df_train_vanilla[\"Label\"] = encoder.transform(df_train_vanilla[\"Label\"])\n",
        "\n",
        "# Optional: Print a few entries to confirm the transformation\n",
        "print(df_train_vanilla[\"Label\"].head())\n"
      ],
      "metadata": {
        "id": "Hca5I5lXfBj3",
        "colab": {
          "base_uri": "https://localhost:8080/"
        },
        "outputId": "1893a40f-6a88-4546-83ed-f68822cbba8c"
      },
      "execution_count": null,
      "outputs": [
        {
          "output_type": "stream",
          "name": "stdout",
          "text": [
            "0    3\n",
            "1    3\n",
            "2    1\n",
            "3    2\n",
            "4    2\n",
            "Name: Label, dtype: int64\n"
          ]
        }
      ]
    },
    {
      "cell_type": "code",
      "source": [
        "# It should be noted that the histogram is created in order to see how many\n",
        "# instances of each attack occur and help guide the sampling strategy\n",
        "\n",
        "df_train_vanilla.hist(column=\"Label\")"
      ],
      "metadata": {
        "colab": {
          "base_uri": "https://localhost:8080/",
          "height": 601
        },
        "id": "ANiTj1LdfMXi",
        "outputId": "fb8c1bfc-9405-4985-df09-d3bb60eb7b05"
      },
      "execution_count": null,
      "outputs": [
        {
          "output_type": "execute_result",
          "data": {
            "text/plain": [
              "array([[<Axes: title={'center': 'Label'}>]], dtype=object)"
            ]
          },
          "metadata": {},
          "execution_count": 70
        },
        {
          "output_type": "display_data",
          "data": {
            "text/plain": [
              "<Figure size 800x650 with 1 Axes>"
            ],
            "image/png": "[encoded data removed]"
          },
          "metadata": {}
        }
      ]
    },
    {
      "cell_type": "code",
      "source": [
        "# The values per attack\n",
        "\n",
        "print(df_train_vanilla[\"Label\"].value_counts())"
      ],
      "metadata": {
        "colab": {
          "base_uri": "https://localhost:8080/"
        },
        "id": "rE-kDWc8fXrn",
        "outputId": "74c859d7-2998-4f9f-cf95-c8ab62b7f65f"
      },
      "execution_count": null,
      "outputs": [
        {
          "output_type": "stream",
          "name": "stdout",
          "text": [
            "Label\n",
            "0    29606\n",
            "2    29605\n",
            "3    20296\n",
            "1    16376\n",
            "Name: count, dtype: int64\n"
          ]
        }
      ]
    },
    {
      "cell_type": "code",
      "source": [
        "# Correcting the names of the features to be used for the dataset reduction\n",
        "features = correct_names(df_validation_vanilla.columns, saved_features)\n",
        "\n",
        "# Optional: Print the resulting features list to confirm the mapping\n",
        "print(\"Corrected Feature Names:\")\n",
        "print(features)\n"
      ],
      "metadata": {
        "id": "KMGuuuugfxRv",
        "colab": {
          "base_uri": "https://localhost:8080/"
        },
        "outputId": "f26ea442-8ca2-420e-c02e-bd20a5b6088a"
      },
      "execution_count": null,
      "outputs": [
        {
          "output_type": "stream",
          "name": "stdout",
          "text": [
            "Corrected Feature Names:\n",
            "['Bwd Packet Length Max', 'Bwd Packet Length Mean', 'Bwd Packet Length Std', 'Flow IAT Max', 'Fwd IAT Std', 'Fwd IAT Max', 'Max Packet Length', 'Packet Length Mean', 'Packet Length Std', 'PSH Flag Count', 'Average Packet Size', 'Avg Bwd Segment Size', 'Idle Mean', 'Idle Max', 'Idle Min']\n"
          ]
        }
      ]
    },
    {
      "cell_type": "code",
      "source": [
        "import pandas as pd\n",
        "import numpy as np\n",
        "from sklearn.preprocessing import LabelEncoder\n",
        "\n",
        "# Function to reduce memory usage (ensure this function is implemented)\n",
        "def reduce_memory_usage(df, convert_to_category=True):\n",
        "    # Placeholder for memory reduction logic\n",
        "    return df\n",
        "\n",
        "# Load and optimize the train, test, and validation datasets without specifying an index\n",
        "df_train_vanilla = pd.read_csv(r\"Desktop/nid/train_data.csv\")\n",
        "df_train_vanilla = reduce_memory_usage(df_train_vanilla, convert_to_category=False)\n",
        "\n",
        "df_test_vanilla = pd.read_csv(r\"Desktop/nid/test_data.csv\")\n",
        "df_test_vanilla = reduce_memory_usage(df_test_vanilla, convert_to_category=False)\n",
        "\n",
        "df_validation_vanilla = pd.read_csv(r\"Desktop/nid/validation_data.csv\")\n",
        "df_validation_vanilla = reduce_memory_usage(df_validation_vanilla, convert_to_category=False)\n",
        "\n",
        "# Load the encoder\n",
        "encoder = LabelEncoder()\n",
        "encoder.classes_ = np.load(r'Desktop/nid/classes.npy', allow_pickle=True)\n",
        "\n",
        "# Optional: Print the shapes of the DataFrames to confirm successful loading\n",
        "print(\"Train DataFrame shape:\", df_train_vanilla.shape)\n",
        "print(\"Test DataFrame shape:\", df_test_vanilla.shape)\n",
        "print(\"Validation DataFrame shape:\", df_validation_vanilla.shape)\n",
        "\n",
        "# Transforming the 'Label' column in the training dataset using the LabelEncoder\n",
        "df_train_vanilla[\"Label\"] = encoder.transform(df_train_vanilla[\"Label\"])\n",
        "\n",
        "# Optional: Print a few entries to confirm the transformation\n",
        "print(df_train_vanilla[\"Label\"].head())\n",
        "\n",
        "# Perform feature reduction for the training dataset\n",
        "# Extract the labels for the training set\n",
        "y_train = df_train_vanilla[\"Label\"]\n",
        "\n",
        "# Use the 'new_dataset' function to keep only the selected features\n",
        "x_train = new_dataset(df_train_vanilla, features)  # 'features' should be defined\n",
        "\n",
        "# Print the shapes of the new datasets\n",
        "print(f\"x_train shape: {x_train.shape}\")\n",
        "print(f\"y_train shape: {y_train.shape}\")\n",
        "\n",
        "# Prepare the columns for the new Pandas DataFrame that will save the reduced features data\n",
        "train_columns = x_train.columns.to_list()\n",
        "train_columns.append('Label')\n",
        "\n",
        "# Combine the features and labels into a new DataFrame for the training dataset\n",
        "df_train = pd.DataFrame(np.c_[x_train, y_train], columns=train_columns)\n",
        "\n",
        "# Optionally reduce memory usage (if needed)\n",
        "df_train = reduce_memory_usage(df_train, convert_to_category=False)\n",
        "\n",
        "# Save the training DataFrame to a CSV file\n",
        "df_train.to_csv(\"Desktop/nid/train_data_reduced.csv\", index=False)  # Save reduced train dataset\n",
        "\n",
        "# Perform feature reduction for the test dataset\n",
        "# Extract the labels for the test set\n",
        "y_test = df_test_vanilla[\"Label\"]\n",
        "\n",
        "# Use the 'new_dataset' function to keep only the selected features\n",
        "x_test = new_dataset(df_test_vanilla, features)  # Use the same 'features'\n",
        "\n",
        "# Print the shapes of the new test datasets\n",
        "print(f\"x_test shape: {x_test.shape}\")\n",
        "print(f\"y_test shape: {y_test.shape}\")\n",
        "\n",
        "# Encoding the test dataset labels\n",
        "y_test = encoder.transform(y_test)\n",
        "\n",
        "# Prepare the columns for the new Pandas DataFrame that will save the reduced features data\n",
        "test_columns = x_test.columns.to_list()\n",
        "test_columns.append('Label')\n",
        "\n",
        "# Combine the features and labels into a new DataFrame for the test dataset\n",
        "df_test = pd.DataFrame(np.c_[x_test, y_test], columns=test_columns)\n",
        "\n",
        "# Optionally reduce memory usage (if needed)\n",
        "df_test = reduce_memory_usage(df_test, convert_to_category=False)\n",
        "\n",
        "# Save the test DataFrame to a CSV file\n",
        "df_test.to_csv(\"Desktop/nid/test_data_reduced.csv\", index=False)  # Save reduced test dataset\n",
        "\n",
        "# Perform feature reduction for the validation dataset\n",
        "# Extract the labels for the validation set\n",
        "y_valid = df_validation_vanilla[\"Label\"]\n",
        "\n",
        "# Use the 'new_dataset' function to keep only the selected features\n",
        "x_valid = new_dataset(df_validation_vanilla, features)  # 'features' should be defined\n",
        "\n",
        "# Print the shapes of the new validation datasets\n",
        "print(f\"x_valid shape: {x_valid.shape}\")\n",
        "print(f\"y_valid shape: {y_valid.shape}\")\n",
        "\n",
        "# Encoding the validation dataset labels\n",
        "y_valid = encoder.transform(y_valid)\n",
        "\n",
        "# Prepare the columns for the new Pandas DataFrame that will save the reduced features data\n",
        "valid_columns = x_valid.columns.to_list()\n",
        "valid_columns.append('Label')\n",
        "\n",
        "# Combine the features and labels into a new DataFrame for the validation dataset\n",
        "df_validation = pd.DataFrame(np.c_[x_valid, y_valid], columns=valid_columns)\n",
        "\n",
        "# Optionally reduce memory usage (if needed)\n",
        "df_validation = reduce_memory_usage(df_validation, convert_to_category=False)\n",
        "\n",
        "# Save the validation DataFrame to a CSV file\n",
        "df_validation.to_csv(\"Desktop/nid/validation_data_reduced.csv\", index=False)  # Save reduced validation dataset\n"
      ],
      "metadata": {
        "colab": {
          "base_uri": "https://localhost:8080/"
        },
        "id": "1DhIkoAQB6wa",
        "outputId": "150ae6e7-9855-4a85-cea1-88f1929c9ac4"
      },
      "execution_count": null,
      "outputs": [
        {
          "output_type": "stream",
          "name": "stdout",
          "text": [
            "Train DataFrame shape: (95883, 69)\n",
            "Test DataFrame shape: (29964, 69)\n",
            "Validation DataFrame shape: (23971, 16)\n",
            "0    3\n",
            "1    3\n",
            "2    1\n",
            "3    2\n",
            "4    2\n",
            "Name: Label, dtype: int64\n",
            "x_train shape: (95883, 15)\n",
            "y_train shape: (95883,)\n",
            "x_test shape: (29964, 15)\n",
            "y_test shape: (29964,)\n",
            "x_valid shape: (23971, 15)\n",
            "y_valid shape: (23971,)\n"
          ]
        }
      ]
    },
    {
      "cell_type": "code",
      "source": [
        "# Print shapes\n",
        "print(\"Shapes of datasets:\")\n",
        "print(f\"x_train shape: {x_train.shape}\")\n",
        "print(f\"y_train shape: {y_train.shape}\")\n",
        "print(f\"x_test shape: {x_test.shape}\")\n",
        "print(f\"y_test shape: {y_test.shape}\")\n",
        "print(f\"x_valid shape: {x_valid.shape}\")\n",
        "print(f\"y_valid shape: {y_valid.shape}\")\n",
        "\n",
        "# Print sample values from each dataset\n",
        "print(\"\\nSample values from the datasets:\")\n",
        "print(\"x_train (first 5 samples):\\n\", x_train[:5])\n",
        "print(\"y_train (first 5 labels):\\n\", y_train[:5])\n",
        "\n",
        "print(\"\\nx_test (first 5 samples):\\n\", x_test[:5])\n",
        "print(\"y_test (first 5 labels):\\n\", y_test[:5])\n",
        "\n",
        "print(\"\\nx_valid (first 5 samples):\\n\", x_valid[:5])\n",
        "print(\"y_valid (first 5 labels):\\n\", y_valid[:5])\n"
      ],
      "metadata": {
        "colab": {
          "base_uri": "https://localhost:8080/"
        },
        "id": "Tgjl4lL3IeMQ",
        "outputId": "c0996477-e301-4388-af72-85342320263f"
      },
      "execution_count": null,
      "outputs": [
        {
          "output_type": "stream",
          "name": "stdout",
          "text": [
            "Shapes of datasets:\n",
            "x_train shape: (95883, 15)\n",
            "y_train shape: (95883,)\n",
            "x_test shape: (29964, 15)\n",
            "y_test shape: (29964,)\n",
            "x_valid shape: (23971, 15)\n",
            "y_valid shape: (23971,)\n",
            "\n",
            "Sample values from the datasets:\n",
            "x_train (first 5 samples):\n",
            "    Bwd Packet Length Max  Bwd Packet Length Mean  Bwd Packet Length Std  \\\n",
            "0                    6.0                     6.0                    0.0   \n",
            "1                    6.0                     6.0                    0.0   \n",
            "2                11592.0                  2902.0                 5796.0   \n",
            "3                10144.0                  2320.0                 4420.0   \n",
            "4                    0.0                     0.0                    0.0   \n",
            "\n",
            "   Flow IAT Max  Fwd IAT Std  Fwd IAT Max  Max Packet Length  \\\n",
            "0          90.0          0.0          0.0                6.0   \n",
            "1          54.0          0.0          0.0                6.0   \n",
            "2    74000000.0   25900000.0   74000000.0            11592.0   \n",
            "3    98800000.0   44200000.0   98800000.0            10144.0   \n",
            "4        2584.0          0.0       2584.0                0.0   \n",
            "\n",
            "   Packet Length Mean  Packet Length Std  PSH Flag Count  Average Packet Size  \\\n",
            "0            3.333984           2.308594             1.0                  5.0   \n",
            "1            3.333984           2.308594             1.0                  5.0   \n",
            "2          834.000000        3098.000000             0.0                898.0   \n",
            "3          995.500000        2912.000000             0.0               1086.0   \n",
            "4            0.000000           0.000000             0.0                  0.0   \n",
            "\n",
            "   Avg Bwd Segment Size   Idle Mean    Idle Max    Idle Min  \n",
            "0                   6.0         0.0         0.0         0.0  \n",
            "1                   6.0         0.0         0.0         0.0  \n",
            "2                2902.0  40000000.0  74000000.0   6088130.0  \n",
            "3                2320.0  98800000.0  98800000.0  98800000.0  \n",
            "4                   0.0         0.0         0.0         0.0  \n",
            "y_train (first 5 labels):\n",
            " 0    3\n",
            "1    3\n",
            "2    1\n",
            "3    2\n",
            "4    2\n",
            "Name: Label, dtype: int64\n",
            "\n",
            "x_test (first 5 samples):\n",
            "    Bwd Packet Length Max  Bwd Packet Length Mean  Bwd Packet Length Std  \\\n",
            "0                 5792.0                  2320.0                 3170.0   \n",
            "1                    6.0                     6.0                    0.0   \n",
            "2                 5792.0                  1932.0                 2182.0   \n",
            "3                 4344.0                  1932.0                 1755.0   \n",
            "4                 5792.0                  1932.0                 2180.0   \n",
            "\n",
            "   Flow IAT Max  Fwd IAT Std  Fwd IAT Max  Max Packet Length  \\\n",
            "0    98200000.0   40100000.0   98200000.0             5792.0   \n",
            "1          51.0          0.0          0.0                6.0   \n",
            "2    96200000.0   34000000.0   96200000.0             5792.0   \n",
            "3    84400000.0   37700000.0   84400000.0             4344.0   \n",
            "4    84600000.0   29900000.0   84600000.0             5792.0   \n",
            "\n",
            "   Packet Length Mean  Packet Length Std  PSH Flag Count  Average Packet Size  \\\n",
            "0               920.5        2164.000000             0.0                997.0   \n",
            "1                 2.0           3.464844             1.0                  3.0   \n",
            "2               764.5        1572.000000             0.0                815.5   \n",
            "3               921.0        1498.000000             0.0                998.0   \n",
            "4               745.0        1579.000000             0.0                795.0   \n",
            "\n",
            "   Avg Bwd Segment Size   Idle Mean    Idle Max    Idle Min  \n",
            "0                2320.0  98200000.0  98200000.0  98200000.0  \n",
            "1                   6.0         0.0         0.0         0.0  \n",
            "2                1932.0  96200000.0  96200000.0  96200000.0  \n",
            "3                1932.0  84400000.0  84400000.0  84400000.0  \n",
            "4                1932.0  84600000.0  84600000.0  84600000.0  \n",
            "y_test (first 5 labels):\n",
            " [2 3 2 2 2]\n",
            "\n",
            "x_valid (first 5 samples):\n",
            "    Bwd Packet Length Max  Bwd Packet Length Mean  Bwd Packet Length Std  \\\n",
            "0                    6.0                     6.0                    0.0   \n",
            "1                    6.0                     6.0                    0.0   \n",
            "2                    0.0                     0.0                    0.0   \n",
            "3                  164.0                   164.0                    0.0   \n",
            "4                   46.0                    46.0                    0.0   \n",
            "\n",
            "   Flow IAT Max  Fwd IAT Std  Fwd IAT Max  Max Packet Length  \\\n",
            "0          64.0          0.0          0.0                6.0   \n",
            "1          56.0          0.0          0.0                6.0   \n",
            "2           2.0          0.0          2.0                0.0   \n",
            "3         142.0          0.0          3.0              164.0   \n",
            "4         116.0          0.0          4.0               46.0   \n",
            "\n",
            "   Packet Length Mean  Packet Length Std  PSH Flag Count  Average Packet Size  \\\n",
            "0            3.333984           2.308594             1.0                  5.0   \n",
            "1            3.333984           2.308594             1.0                  5.0   \n",
            "2            0.000000           0.000000             0.0                  0.0   \n",
            "3           87.187500          70.125000             0.0                109.0   \n",
            "4           36.406250           8.765625             0.0                 45.5   \n",
            "\n",
            "   Avg Bwd Segment Size  Idle Mean  Idle Max  Idle Min  \n",
            "0                   6.0        0.0       0.0       0.0  \n",
            "1                   6.0        0.0       0.0       0.0  \n",
            "2                   0.0        0.0       0.0       0.0  \n",
            "3                 164.0        0.0       0.0       0.0  \n",
            "4                  46.0        0.0       0.0       0.0  \n",
            "y_valid (first 5 labels):\n",
            " [3 3 2 0 0]\n"
          ]
        }
      ]
    },
    {
      "cell_type": "code",
      "source": [
        "import numpy as np\n",
        "import pandas as pd\n",
        "from keras.models import Sequential\n",
        "from keras.layers import LSTM, Dense, Dropout\n",
        "from sklearn.preprocessing import Normalizer, PowerTransformer\n",
        "import joblib\n",
        "import tensorflow as tf\n",
        "\n",
        "# Define the LSTM model\n",
        "def create_lstm_model(input_shape):\n",
        "    model = Sequential()\n",
        "    model.add(LSTM(128, return_sequences=True, input_shape=input_shape))\n",
        "    model.add(Dropout(0.2))\n",
        "    model.add(LSTM(64, return_sequences=False))\n",
        "    model.add(Dropout(0.2))\n",
        "    model.add(Dense(32, activation='relu'))\n",
        "    model.add(Dense(16, activation='softmax'))  # Assuming you have 16 classes\n",
        "    model.compile(loss='sparse_categorical_crossentropy', optimizer='adam', metrics=['accuracy'])\n",
        "    return model\n",
        "\n",
        "# Prepare the data\n",
        "normalizer = Normalizer()\n",
        "standardizer = PowerTransformer(method='yeo-johnson')\n",
        "\n",
        "# Assuming x_train, x_test, and x_valid are already defined from your previous steps\n",
        "# Normalize and standardize the training dataset\n",
        "X_train = normalizer.fit_transform(x_train)  # Your training features\n",
        "X_train = standardizer.fit_transform(X_train)\n",
        "\n",
        "# Normalize and standardize the test dataset\n",
        "X_test = normalizer.transform(x_test)  # Use x_test\n",
        "X_test = standardizer.transform(X_test)\n",
        "\n",
        "# Normalize and standardize the validation dataset\n",
        "X_valid = normalizer.transform(x_valid)  # Use x_valid\n",
        "X_valid = standardizer.transform(X_valid)\n",
        "\n",
        "# Reshape data for LSTM [samples, time steps, features]\n",
        "X_train = X_train.reshape((X_train.shape[0], 1, X_train.shape[1]))  # Shape: (samples, time steps, features)\n",
        "X_test = X_test.reshape((X_test.shape[0], 1, X_test.shape[1]))  # Shape: (samples, time steps, features)\n",
        "X_valid = X_valid.reshape((X_valid.shape[0], 1, X_valid.shape[1]))  # Shape: (samples, time steps, features)\n",
        "\n",
        "# Save the Normalizer and Transformer for future use\n",
        "normalizer_filename = \"Desktop/nid/normalizer.save\"\n",
        "joblib.dump(normalizer, normalizer_filename)\n",
        "\n",
        "standardizer_filename = \"Desktop/nid/standardizer.save\"\n",
        "joblib.dump(standardizer, standardizer_filename)\n",
        "\n",
        "# Callbacks for training\n",
        "early_stop = tf.keras.callbacks.EarlyStopping(monitor='val_loss',\n",
        "                        min_delta=0,\n",
        "                        patience=5,\n",
        "                        verbose=1,\n",
        "                        restore_best_weights=True)\n",
        "\n",
        "reduce_lr = tf.keras.callbacks.ReduceLROnPlateau(monitor='val_accuracy',\n",
        "                                patience=3,\n",
        "                                verbose=1,\n",
        "                                factor=0.2,\n",
        "                                min_lr=1e-6)\n",
        "\n",
        "# Create and train the LSTM model\n",
        "model_lstm = create_lstm_model(input_shape=(X_train.shape[1], X_train.shape[2]))\n",
        "model_lstm.summary()\n",
        "\n",
        "# Fit the model\n",
        "model_lstm.fit(X_train, y_train,  # Use y_train for labels (from training dataset)\n",
        "                epochs=25,\n",
        "                batch_size=32,\n",
        "                verbose=1,\n",
        "                validation_data=(X_valid, y_valid),  # Use validation set for validation data\n",
        "                callbacks=[early_stop, reduce_lr])\n"
      ],
      "metadata": {
        "id": "OzR0-S5HoB0u",
        "colab": {
          "base_uri": "https://localhost:8080/",
          "height": 1000
        },
        "outputId": "2f6a1688-3e83-4722-ed49-dd5600f59d48"
      },
      "execution_count": null,
      "outputs": [
        {
          "output_type": "stream",
          "name": "stderr",
          "text": [
            "C:\\Users\\test2\\anaconda3\\envs\\IDS\\Lib\\site-packages\\keras\\src\\layers\\rnn\\rnn.py:204: UserWarning: Do not pass an `input_shape`/`input_dim` argument to a layer. When using Sequential models, prefer using an `Input(shape)` object as the first layer in the model instead.\n",
            "  super().__init__(**kwargs)\n"
          ]
        },
        {
          "output_type": "display_data",
          "data": {
            "text/plain": [
              "\u001b[1mModel: \"sequential_1\"\u001b[0m\n"
            ],
            "text/html": [
              "<pre style=\"white-space:pre;overflow-x:auto;line-height:normal;font-family:Menlo,'DejaVu Sans Mono',consolas,'Courier New',monospace\"><span style=\"font-weight: bold\">Model: \"sequential_1\"</span>\n",
              "</pre>\n"
            ]
          },
          "metadata": {}
        },
        {
          "output_type": "display_data",
          "data": {
            "text/plain": [
              "┏━━━━━━━━━━━━━━━━━━━━━━━━━━━━━━━━━━━━━━┳━━━━━━━━━━━━━━━━━━━━━━━━━━━━━┳━━━━━━━━━━━━━━━━━┓\n",
              "┃\u001b[1m \u001b[0m\u001b[1mLayer (type)                        \u001b[0m\u001b[1m \u001b[0m┃\u001b[1m \u001b[0m\u001b[1mOutput Shape               \u001b[0m\u001b[1m \u001b[0m┃\u001b[1m \u001b[0m\u001b[1m        Param #\u001b[0m\u001b[1m \u001b[0m┃\n",
              "┡━━━━━━━━━━━━━━━━━━━━━━━━━━━━━━━━━━━━━━╇━━━━━━━━━━━━━━━━━━━━━━━━━━━━━╇━━━━━━━━━━━━━━━━━┩\n",
              "│ lstm_2 (\u001b[38;5;33mLSTM\u001b[0m)                        │ (\u001b[38;5;45mNone\u001b[0m, \u001b[38;5;34m1\u001b[0m, \u001b[38;5;34m128\u001b[0m)              │          \u001b[38;5;34m73,728\u001b[0m │\n",
              "├──────────────────────────────────────┼─────────────────────────────┼─────────────────┤\n",
              "│ dropout_2 (\u001b[38;5;33mDropout\u001b[0m)                  │ (\u001b[38;5;45mNone\u001b[0m, \u001b[38;5;34m1\u001b[0m, \u001b[38;5;34m128\u001b[0m)              │               \u001b[38;5;34m0\u001b[0m │\n",
              "├──────────────────────────────────────┼─────────────────────────────┼─────────────────┤\n",
              "│ lstm_3 (\u001b[38;5;33mLSTM\u001b[0m)                        │ (\u001b[38;5;45mNone\u001b[0m, \u001b[38;5;34m64\u001b[0m)                  │          \u001b[38;5;34m49,408\u001b[0m │\n",
              "├──────────────────────────────────────┼─────────────────────────────┼─────────────────┤\n",
              "│ dropout_3 (\u001b[38;5;33mDropout\u001b[0m)                  │ (\u001b[38;5;45mNone\u001b[0m, \u001b[38;5;34m64\u001b[0m)                  │               \u001b[38;5;34m0\u001b[0m │\n",
              "├──────────────────────────────────────┼─────────────────────────────┼─────────────────┤\n",
              "│ dense_2 (\u001b[38;5;33mDense\u001b[0m)                      │ (\u001b[38;5;45mNone\u001b[0m, \u001b[38;5;34m32\u001b[0m)                  │           \u001b[38;5;34m2,080\u001b[0m │\n",
              "├──────────────────────────────────────┼─────────────────────────────┼─────────────────┤\n",
              "│ dense_3 (\u001b[38;5;33mDense\u001b[0m)                      │ (\u001b[38;5;45mNone\u001b[0m, \u001b[38;5;34m16\u001b[0m)                  │             \u001b[38;5;34m528\u001b[0m │\n",
              "└──────────────────────────────────────┴─────────────────────────────┴─────────────────┘\n"
            ],
            "text/html": [
              "<pre style=\"white-space:pre;overflow-x:auto;line-height:normal;font-family:Menlo,'DejaVu Sans Mono',consolas,'Courier New',monospace\">┏━━━━━━━━━━━━━━━━━━━━━━━━━━━━━━━━━━━━━━┳━━━━━━━━━━━━━━━━━━━━━━━━━━━━━┳━━━━━━━━━━━━━━━━━┓\n",
              "┃<span style=\"font-weight: bold\"> Layer (type)                         </span>┃<span style=\"font-weight: bold\"> Output Shape                </span>┃<span style=\"font-weight: bold\">         Param # </span>┃\n",
              "┡━━━━━━━━━━━━━━━━━━━━━━━━━━━━━━━━━━━━━━╇━━━━━━━━━━━━━━━━━━━━━━━━━━━━━╇━━━━━━━━━━━━━━━━━┩\n",
              "│ lstm_2 (<span style=\"color: #0087ff; text-decoration-color: #0087ff\">LSTM</span>)                        │ (<span style=\"color: #00d7ff; text-decoration-color: #00d7ff\">None</span>, <span style=\"color: #00af00; text-decoration-color: #00af00\">1</span>, <span style=\"color: #00af00; text-decoration-color: #00af00\">128</span>)              │          <span style=\"color: #00af00; text-decoration-color: #00af00\">73,728</span> │\n",
              "├──────────────────────────────────────┼─────────────────────────────┼─────────────────┤\n",
              "│ dropout_2 (<span style=\"color: #0087ff; text-decoration-color: #0087ff\">Dropout</span>)                  │ (<span style=\"color: #00d7ff; text-decoration-color: #00d7ff\">None</span>, <span style=\"color: #00af00; text-decoration-color: #00af00\">1</span>, <span style=\"color: #00af00; text-decoration-color: #00af00\">128</span>)              │               <span style=\"color: #00af00; text-decoration-color: #00af00\">0</span> │\n",
              "├──────────────────────────────────────┼─────────────────────────────┼─────────────────┤\n",
              "│ lstm_3 (<span style=\"color: #0087ff; text-decoration-color: #0087ff\">LSTM</span>)                        │ (<span style=\"color: #00d7ff; text-decoration-color: #00d7ff\">None</span>, <span style=\"color: #00af00; text-decoration-color: #00af00\">64</span>)                  │          <span style=\"color: #00af00; text-decoration-color: #00af00\">49,408</span> │\n",
              "├──────────────────────────────────────┼─────────────────────────────┼─────────────────┤\n",
              "│ dropout_3 (<span style=\"color: #0087ff; text-decoration-color: #0087ff\">Dropout</span>)                  │ (<span style=\"color: #00d7ff; text-decoration-color: #00d7ff\">None</span>, <span style=\"color: #00af00; text-decoration-color: #00af00\">64</span>)                  │               <span style=\"color: #00af00; text-decoration-color: #00af00\">0</span> │\n",
              "├──────────────────────────────────────┼─────────────────────────────┼─────────────────┤\n",
              "│ dense_2 (<span style=\"color: #0087ff; text-decoration-color: #0087ff\">Dense</span>)                      │ (<span style=\"color: #00d7ff; text-decoration-color: #00d7ff\">None</span>, <span style=\"color: #00af00; text-decoration-color: #00af00\">32</span>)                  │           <span style=\"color: #00af00; text-decoration-color: #00af00\">2,080</span> │\n",
              "├──────────────────────────────────────┼─────────────────────────────┼─────────────────┤\n",
              "│ dense_3 (<span style=\"color: #0087ff; text-decoration-color: #0087ff\">Dense</span>)                      │ (<span style=\"color: #00d7ff; text-decoration-color: #00d7ff\">None</span>, <span style=\"color: #00af00; text-decoration-color: #00af00\">16</span>)                  │             <span style=\"color: #00af00; text-decoration-color: #00af00\">528</span> │\n",
              "└──────────────────────────────────────┴─────────────────────────────┴─────────────────┘\n",
              "</pre>\n"
            ]
          },
          "metadata": {}
        },
        {
          "output_type": "display_data",
          "data": {
            "text/plain": [
              "\u001b[1m Total params: \u001b[0m\u001b[38;5;34m125,744\u001b[0m (491.19 KB)\n"
            ],
            "text/html": [
              "<pre style=\"white-space:pre;overflow-x:auto;line-height:normal;font-family:Menlo,'DejaVu Sans Mono',consolas,'Courier New',monospace\"><span style=\"font-weight: bold\"> Total params: </span><span style=\"color: #00af00; text-decoration-color: #00af00\">125,744</span> (491.19 KB)\n",
              "</pre>\n"
            ]
          },
          "metadata": {}
        },
        {
          "output_type": "display_data",
          "data": {
            "text/plain": [
              "\u001b[1m Trainable params: \u001b[0m\u001b[38;5;34m125,744\u001b[0m (491.19 KB)\n"
            ],
            "text/html": [
              "<pre style=\"white-space:pre;overflow-x:auto;line-height:normal;font-family:Menlo,'DejaVu Sans Mono',consolas,'Courier New',monospace\"><span style=\"font-weight: bold\"> Trainable params: </span><span style=\"color: #00af00; text-decoration-color: #00af00\">125,744</span> (491.19 KB)\n",
              "</pre>\n"
            ]
          },
          "metadata": {}
        },
        {
          "output_type": "display_data",
          "data": {
            "text/plain": [
              "\u001b[1m Non-trainable params: \u001b[0m\u001b[38;5;34m0\u001b[0m (0.00 B)\n"
            ],
            "text/html": [
              "<pre style=\"white-space:pre;overflow-x:auto;line-height:normal;font-family:Menlo,'DejaVu Sans Mono',consolas,'Courier New',monospace\"><span style=\"font-weight: bold\"> Non-trainable params: </span><span style=\"color: #00af00; text-decoration-color: #00af00\">0</span> (0.00 B)\n",
              "</pre>\n"
            ]
          },
          "metadata": {}
        },
        {
          "output_type": "stream",
          "name": "stdout",
          "text": [
            "Epoch 1/25\n",
            "\u001b[1m2997/2997\u001b[0m \u001b[32m━━━━━━━━━━━━━━━━━━━━\u001b[0m\u001b[37m\u001b[0m \u001b[1m23s\u001b[0m 7ms/step - accuracy: 0.7388 - loss: 0.7238 - val_accuracy: 0.8285 - val_loss: 0.4265 - learning_rate: 0.0010\n",
            "Epoch 2/25\n",
            "\u001b[1m2997/2997\u001b[0m \u001b[32m━━━━━━━━━━━━━━━━━━━━\u001b[0m\u001b[37m\u001b[0m \u001b[1m20s\u001b[0m 7ms/step - accuracy: 0.8360 - loss: 0.4236 - val_accuracy: 0.8486 - val_loss: 0.3831 - learning_rate: 0.0010\n",
            "Epoch 3/25\n",
            "\u001b[1m2997/2997\u001b[0m \u001b[32m━━━━━━━━━━━━━━━━━━━━\u001b[0m\u001b[37m\u001b[0m \u001b[1m18s\u001b[0m 6ms/step - accuracy: 0.8494 - loss: 0.3888 - val_accuracy: 0.8568 - val_loss: 0.3675 - learning_rate: 0.0010\n",
            "Epoch 4/25\n",
            "\u001b[1m2997/2997\u001b[0m \u001b[32m━━━━━━━━━━━━━━━━━━━━\u001b[0m\u001b[37m\u001b[0m \u001b[1m18s\u001b[0m 6ms/step - accuracy: 0.8571 - loss: 0.3712 - val_accuracy: 0.8673 - val_loss: 0.3501 - learning_rate: 0.0010\n",
            "Epoch 5/25\n",
            "\u001b[1m2997/2997\u001b[0m \u001b[32m━━━━━━━━━━━━━━━━━━━━\u001b[0m\u001b[37m\u001b[0m \u001b[1m18s\u001b[0m 6ms/step - accuracy: 0.8606 - loss: 0.3558 - val_accuracy: 0.8696 - val_loss: 0.3272 - learning_rate: 0.0010\n",
            "Epoch 6/25\n",
            "\u001b[1m2997/2997\u001b[0m \u001b[32m━━━━━━━━━━━━━━━━━━━━\u001b[0m\u001b[37m\u001b[0m \u001b[1m19s\u001b[0m 6ms/step - accuracy: 0.8629 - loss: 0.3469 - val_accuracy: 0.8650 - val_loss: 0.3285 - learning_rate: 0.0010\n",
            "Epoch 7/25\n",
            "\u001b[1m2997/2997\u001b[0m \u001b[32m━━━━━━━━━━━━━━━━━━━━\u001b[0m\u001b[37m\u001b[0m \u001b[1m18s\u001b[0m 6ms/step - accuracy: 0.8643 - loss: 0.3386 - val_accuracy: 0.8678 - val_loss: 0.3138 - learning_rate: 0.0010\n",
            "Epoch 8/25\n",
            "\u001b[1m2997/2997\u001b[0m \u001b[32m━━━━━━━━━━━━━━━━━━━━\u001b[0m\u001b[37m\u001b[0m \u001b[1m21s\u001b[0m 7ms/step - accuracy: 0.8693 - loss: 0.3305 - val_accuracy: 0.8759 - val_loss: 0.3183 - learning_rate: 0.0010\n",
            "Epoch 9/25\n",
            "\u001b[1m2997/2997\u001b[0m \u001b[32m━━━━━━━━━━━━━━━━━━━━\u001b[0m\u001b[37m\u001b[0m \u001b[1m21s\u001b[0m 7ms/step - accuracy: 0.8755 - loss: 0.3194 - val_accuracy: 0.8840 - val_loss: 0.2979 - learning_rate: 0.0010\n",
            "Epoch 10/25\n",
            "\u001b[1m2997/2997\u001b[0m \u001b[32m━━━━━━━━━━━━━━━━━━━━\u001b[0m\u001b[37m\u001b[0m \u001b[1m20s\u001b[0m 7ms/step - accuracy: 0.8791 - loss: 0.3106 - val_accuracy: 0.8809 - val_loss: 0.2907 - learning_rate: 0.0010\n",
            "Epoch 11/25\n",
            "\u001b[1m2997/2997\u001b[0m \u001b[32m━━━━━━━━━━━━━━━━━━━━\u001b[0m\u001b[37m\u001b[0m \u001b[1m20s\u001b[0m 7ms/step - accuracy: 0.8845 - loss: 0.2973 - val_accuracy: 0.8857 - val_loss: 0.2768 - learning_rate: 0.0010\n",
            "Epoch 12/25\n",
            "\u001b[1m2997/2997\u001b[0m \u001b[32m━━━━━━━━━━━━━━━━━━━━\u001b[0m\u001b[37m\u001b[0m \u001b[1m19s\u001b[0m 6ms/step - accuracy: 0.8894 - loss: 0.2904 - val_accuracy: 0.8859 - val_loss: 0.2872 - learning_rate: 0.0010\n",
            "Epoch 13/25\n",
            "\u001b[1m2997/2997\u001b[0m \u001b[32m━━━━━━━━━━━━━━━━━━━━\u001b[0m\u001b[37m\u001b[0m \u001b[1m19s\u001b[0m 6ms/step - accuracy: 0.8933 - loss: 0.2844 - val_accuracy: 0.8960 - val_loss: 0.2615 - learning_rate: 0.0010\n",
            "Epoch 14/25\n",
            "\u001b[1m2997/2997\u001b[0m \u001b[32m━━━━━━━━━━━━━━━━━━━━\u001b[0m\u001b[37m\u001b[0m \u001b[1m19s\u001b[0m 6ms/step - accuracy: 0.8952 - loss: 0.2821 - val_accuracy: 0.9202 - val_loss: 0.2491 - learning_rate: 0.0010\n",
            "Epoch 15/25\n",
            "\u001b[1m2997/2997\u001b[0m \u001b[32m━━━━━━━━━━━━━━━━━━━━\u001b[0m\u001b[37m\u001b[0m \u001b[1m19s\u001b[0m 6ms/step - accuracy: 0.8955 - loss: 0.2774 - val_accuracy: 0.9070 - val_loss: 0.2631 - learning_rate: 0.0010\n",
            "Epoch 16/25\n",
            "\u001b[1m2997/2997\u001b[0m \u001b[32m━━━━━━━━━━━━━━━━━━━━\u001b[0m\u001b[37m\u001b[0m \u001b[1m20s\u001b[0m 7ms/step - accuracy: 0.8984 - loss: 0.2738 - val_accuracy: 0.9118 - val_loss: 0.2465 - learning_rate: 0.0010\n",
            "Epoch 17/25\n",
            "\u001b[1m2997/2997\u001b[0m \u001b[32m━━━━━━━━━━━━━━━━━━━━\u001b[0m\u001b[37m\u001b[0m \u001b[1m0s\u001b[0m 6ms/step - accuracy: 0.9026 - loss: 0.2657\n",
            "Epoch 17: ReduceLROnPlateau reducing learning rate to 0.00020000000949949026.\n",
            "\u001b[1m2997/2997\u001b[0m \u001b[32m━━━━━━━━━━━━━━━━━━━━\u001b[0m\u001b[37m\u001b[0m \u001b[1m20s\u001b[0m 7ms/step - accuracy: 0.9026 - loss: 0.2657 - val_accuracy: 0.9106 - val_loss: 0.2453 - learning_rate: 0.0010\n",
            "Epoch 18/25\n",
            "\u001b[1m2997/2997\u001b[0m \u001b[32m━━━━━━━━━━━━━━━━━━━━\u001b[0m\u001b[37m\u001b[0m \u001b[1m22s\u001b[0m 7ms/step - accuracy: 0.9151 - loss: 0.2400 - val_accuracy: 0.9221 - val_loss: 0.2216 - learning_rate: 2.0000e-04\n",
            "Epoch 19/25\n",
            "\u001b[1m2997/2997\u001b[0m \u001b[32m━━━━━━━━━━━━━━━━━━━━\u001b[0m\u001b[37m\u001b[0m \u001b[1m20s\u001b[0m 7ms/step - accuracy: 0.9183 - loss: 0.2307 - val_accuracy: 0.9233 - val_loss: 0.2153 - learning_rate: 2.0000e-04\n",
            "Epoch 20/25\n",
            "\u001b[1m2997/2997\u001b[0m \u001b[32m━━━━━━━━━━━━━━━━━━━━\u001b[0m\u001b[37m\u001b[0m \u001b[1m21s\u001b[0m 7ms/step - accuracy: 0.9185 - loss: 0.2285 - val_accuracy: 0.9267 - val_loss: 0.2115 - learning_rate: 2.0000e-04\n",
            "Epoch 21/25\n",
            "\u001b[1m2997/2997\u001b[0m \u001b[32m━━━━━━━━━━━━━━━━━━━━\u001b[0m\u001b[37m\u001b[0m \u001b[1m21s\u001b[0m 7ms/step - accuracy: 0.9176 - loss: 0.2287 - val_accuracy: 0.9260 - val_loss: 0.2121 - learning_rate: 2.0000e-04\n",
            "Epoch 22/25\n",
            "\u001b[1m2997/2997\u001b[0m \u001b[32m━━━━━━━━━━━━━━━━━━━━\u001b[0m\u001b[37m\u001b[0m \u001b[1m21s\u001b[0m 7ms/step - accuracy: 0.9201 - loss: 0.2259 - val_accuracy: 0.9247 - val_loss: 0.2100 - learning_rate: 2.0000e-04\n",
            "Epoch 23/25\n",
            "\u001b[1m2997/2997\u001b[0m \u001b[32m━━━━━━━━━━━━━━━━━━━━\u001b[0m\u001b[37m\u001b[0m \u001b[1m22s\u001b[0m 7ms/step - accuracy: 0.9203 - loss: 0.2249 - val_accuracy: 0.9274 - val_loss: 0.2096 - learning_rate: 2.0000e-04\n",
            "Epoch 24/25\n",
            "\u001b[1m2997/2997\u001b[0m \u001b[32m━━━━━━━━━━━━━━━━━━━━\u001b[0m\u001b[37m\u001b[0m \u001b[1m18s\u001b[0m 6ms/step - accuracy: 0.9206 - loss: 0.2223 - val_accuracy: 0.9267 - val_loss: 0.2084 - learning_rate: 2.0000e-04\n",
            "Epoch 25/25\n",
            "\u001b[1m2997/2997\u001b[0m \u001b[32m━━━━━━━━━━━━━━━━━━━━\u001b[0m\u001b[37m\u001b[0m \u001b[1m19s\u001b[0m 6ms/step - accuracy: 0.9202 - loss: 0.2231 - val_accuracy: 0.9261 - val_loss: 0.2034 - learning_rate: 2.0000e-04\n",
            "Restoring model weights from the end of the best epoch: 25.\n"
          ]
        },
        {
          "output_type": "execute_result",
          "data": {
            "text/plain": [
              "<keras.src.callbacks.history.History at 0x23f273068d0>"
            ]
          },
          "metadata": {},
          "execution_count": 117
        }
      ]
    },
    {
      "cell_type": "code",
      "source": [
        "# Save the model\n",
        "\n",
        "\n",
        "model_lstm.save('Desktop/nid/keras_ids_model_lstm.h5')\n",
        "print(\"Model saved as 'keras_ids_model_lstm.h5'\")\n"
      ],
      "metadata": {
        "colab": {
          "base_uri": "https://localhost:8080/"
        },
        "id": "-T-TA-JuLgFh",
        "outputId": "8fd19134-4fdb-4ddc-ad69-f5c2471691ce"
      },
      "execution_count": null,
      "outputs": [
        {
          "output_type": "stream",
          "name": "stderr",
          "text": [
            "WARNING:absl:You are saving your model as an HDF5 file via `model.save()` or `keras.saving.save_model(model)`. This file format is considered legacy. We recommend using instead the native Keras format, e.g. `model.save('my_model.keras')` or `keras.saving.save_model(model, 'my_model.keras')`. \n"
          ]
        },
        {
          "output_type": "stream",
          "name": "stdout",
          "text": [
            "Model saved as 'keras_ids_model_lstm.h5'\n"
          ]
        }
      ]
    },
    {
      "cell_type": "code",
      "source": [
        "import numpy as np\n",
        "import pandas as pd\n",
        "import matplotlib.pyplot as plt\n",
        "import seaborn as sns\n",
        "from keras.models import load_model\n",
        "from sklearn.metrics import confusion_matrix, classification_report\n",
        "\n",
        "# Load the model\n",
        "model_lstm = load_model('Desktop/nid/keras_ids_model_lstm.h5')\n",
        "print(\"Model loaded successfully.\")\n",
        "\n",
        "# Make predictions on the test dataset\n",
        "y_pred = model_lstm.predict(X_test)\n",
        "y_pred_classes = np.argmax(y_pred, axis=1)  # Get class labels\n",
        "\n",
        "# Get the unique classes\n",
        "classes = np.unique(y_test)\n",
        "\n",
        "# Create the confusion matrix\n",
        "cm = confusion_matrix(y_test, y_pred_classes)\n",
        "\n",
        "# Calculate TP, TN, FP, FN\n",
        "TP = np.diag(cm)  # True Positives\n",
        "FP = cm.sum(axis=0) - TP  # False Positives\n",
        "FN = cm.sum(axis=1) - TP  # False Negatives\n",
        "TN = cm.sum() - (FP + FN + TP)  # True Negatives\n",
        "\n",
        "# Create a new annotated confusion matrix\n",
        "annot = []\n",
        "for i in range(len(classes)):\n",
        "    row = []\n",
        "    for j in range(len(classes)):\n",
        "        if i == j:\n",
        "            row.append(f'TP: {TP[i]}')  # True Positives\n",
        "        else:\n",
        "            row.append(f'FP: {FP[j]}\\nFN: {FN[i]}')  # False Positives and False Negatives\n",
        "    annot.append(row)\n",
        "\n",
        "# Plot the confusion matrix\n",
        "plt.figure(figsize=(10, 8))\n",
        "sns.heatmap(cm, annot=annot, fmt='', cmap='Blues', cbar=True,\n",
        "            xticklabels=classes, yticklabels=classes)\n",
        "\n",
        "plt.xlabel('Predicted')\n",
        "plt.ylabel('Actual')\n",
        "plt.title('Confusion Matrix with TP, FP, FN Annotations')\n",
        "plt.show()\n",
        "\n",
        "# Classification report\n",
        "print(\"Classification Report:\")\n",
        "print(classification_report(y_test, y_pred_classes))\n"
      ],
      "metadata": {
        "colab": {
          "base_uri": "https://localhost:8080/",
          "height": 990
        },
        "id": "YhfaOY8KMM_6",
        "outputId": "3b4cf34b-5494-4ec5-c95b-92e63cee6571"
      },
      "execution_count": null,
      "outputs": [
        {
          "output_type": "stream",
          "name": "stderr",
          "text": [
            "WARNING:absl:Compiled the loaded model, but the compiled metrics have yet to be built. `model.compile_metrics` will be empty until you train or evaluate the model.\n"
          ]
        },
        {
          "output_type": "stream",
          "name": "stdout",
          "text": [
            "Model loaded successfully.\n",
            "\u001b[1m937/937\u001b[0m \u001b[32m━━━━━━━━━━━━━━━━━━━━\u001b[0m\u001b[37m\u001b[0m \u001b[1m3s\u001b[0m 3ms/step\n"
          ]
        },
        {
          "output_type": "display_data",
          "data": {
            "text/plain": [
              "<Figure size 1000x800 with 2 Axes>"
            ],
            "image/png": "[encoded data removed]"
          },
          "metadata": {}
        },
        {
          "output_type": "stream",
          "name": "stdout",
          "text": [
            "Classification Report:\n",
            "              precision    recall  f1-score   support\n",
            "\n",
            "           0       0.98      0.86      0.91      9252\n",
            "           1       0.92      0.90      0.91      5118\n",
            "           2       0.85      0.96      0.90      9252\n",
            "           3       1.00      1.00      1.00      6342\n",
            "\n",
            "    accuracy                           0.93     29964\n",
            "   macro avg       0.94      0.93      0.93     29964\n",
            "weighted avg       0.93      0.93      0.93     29964\n",
            "\n"
          ]
        }
      ]
    },
    {
      "cell_type": "code",
      "source": [
        "import pandas as pd\n",
        "import random\n",
        "\n",
        "# Load the reduced test dataset\n",
        "df_test = pd.read_csv(\"Desktop/nid/test_data_reduced.csv\")\n",
        "\n",
        "# Filter records with label 2\n",
        "filtered_records = df_test[df_test['Label'] == 2]\n",
        "\n",
        "# Check if there are any records with label 2\n",
        "if not filtered_records.empty:\n",
        "    # Select a random record from the filtered records\n",
        "    random_index = random.randint(0, filtered_records.shape[0] - 1)\n",
        "    random_record = filtered_records.iloc[random_index]\n",
        "\n",
        "    # Print the random record details\n",
        "    print(\"Random Record Index:\", random_index)\n",
        "    print(\"Random Record Details:\\n\", random_record)\n",
        "else:\n",
        "    print(\"No records found with label 2.\")\n"
      ],
      "metadata": {
        "colab": {
          "base_uri": "https://localhost:8080/"
        },
        "id": "W0OKlxZfQkt9",
        "outputId": "55463f6a-b45a-4e01-b760-bc032d37e6cd"
      },
      "execution_count": null,
      "outputs": [
        {
          "output_type": "stream",
          "name": "stdout",
          "text": [
            "Random Record Index: 8981\n",
            "Random Record Details:\n",
            " Bwd Packet Length Max         4344.0\n",
            "Bwd Packet Length Mean        1656.0\n",
            "Bwd Packet Length Std         1761.0\n",
            "Flow IAT Max              98800000.0\n",
            "Fwd IAT Std               44200000.0\n",
            "Fwd IAT Max               98800000.0\n",
            "Max Packet Length             4344.0\n",
            "Packet Length Mean             852.5\n",
            "Packet Length Std             1460.0\n",
            "PSH Flag Count                   0.0\n",
            "Average Packet Size            918.0\n",
            "Avg Bwd Segment Size          1656.0\n",
            "Idle Mean                 98800000.0\n",
            "Idle Max                  98800000.0\n",
            "Idle Min                  98800000.0\n",
            "Label                            2.0\n",
            "Name: 29114, dtype: float64\n"
          ]
        }
      ]
    },
    {
      "cell_type": "code",
      "source": [
        "import numpy as np\n",
        "import joblib\n",
        "from keras.models import load_model\n",
        "\n",
        "# Load the saved normalizer, standardizer, and model\n",
        "normalizer = joblib.load(\"Desktop/nid/normalizer.save\")\n",
        "standardizer = joblib.load(\"Desktop/nid/standardizer.save\")\n",
        "model_lstm = load_model('Desktop/nid/keras_ids_model_lstm.h5')\n",
        "\n",
        "# Manually input your feature values based on the random record you retrieved\n",
        "custom_input = np.array([\n",
        "    4344.0,  # Bwd Packet Length Max\n",
        "    1656.0,  # Bwd Packet Length Mean\n",
        "    1761.0,  # Bwd Packet Length Std\n",
        "    98800000.0, # Flow IAT Max\n",
        "    44200000.0, # Fwd IAT Std\n",
        "    98800000.0, # Fwd IAT Max\n",
        "    4344.0,  # Max Packet Length\n",
        "    852.5,   # Packet Length Mean\n",
        "    1460.0,  # Packet Length Std\n",
        "    0.0,     # PSH Flag Count\n",
        "    918.0,   # Average Packet Size\n",
        "    1656.0,  # Avg Bwd Segment Size\n",
        "    98800000.0, # Idle Mean\n",
        "    98800000.0, # Idle Max\n",
        "    98800000.0  # Idle Min\n",
        "])\n",
        "\n",
        "# Normalize and standardize the custom input\n",
        "custom_input = normalizer.transform(custom_input.reshape(1, -1))  # Reshape for normalization\n",
        "custom_input = standardizer.transform(custom_input)  # Standardize\n",
        "\n",
        "# Reshape the input for the LSTM model [samples, time steps, features]\n",
        "custom_input = custom_input.reshape((custom_input.shape[0], 1, custom_input.shape[1]))\n",
        "\n",
        "# Make the prediction using the model\n",
        "predicted_class = model_lstm.predict(custom_input)\n",
        "predicted_class_label = np.argmax(predicted_class, axis=1)\n",
        "\n",
        "# Print the predicted class\n",
        "print(\"Predicted Class for Custom Input:\", predicted_class_label[0])\n"
      ],
      "metadata": {
        "colab": {
          "base_uri": "https://localhost:8080/"
        },
        "id": "w1B1M0wr1_l5",
        "outputId": "45b3f663-3f1b-4376-9bf3-0367479d0005"
      },
      "execution_count": null,
      "outputs": [
        {
          "output_type": "stream",
          "name": "stderr",
          "text": [
            "WARNING:absl:Compiled the loaded model, but the compiled metrics have yet to be built. `model.compile_metrics` will be empty until you train or evaluate the model.\n",
            "C:\\Users\\test2\\anaconda3\\envs\\IDS\\Lib\\site-packages\\sklearn\\base.py:493: UserWarning: X does not have valid feature names, but Normalizer was fitted with feature names\n",
            "  warnings.warn(\n"
          ]
        },
        {
          "output_type": "stream",
          "name": "stdout",
          "text": [
            "\u001b[1m1/1\u001b[0m \u001b[32m━━━━━━━━━━━━━━━━━━━━\u001b[0m\u001b[37m\u001b[0m \u001b[1m1s\u001b[0m 624ms/step\n",
            "Predicted Class for Custom Input: 2\n"
          ]
        }
      ]
    },
    {
      "cell_type": "code",
      "source": [],
      "metadata": {
        "id": "zWlYhY4lRd28"
      },
      "execution_count": null,
      "outputs": []
    }
  ]
}